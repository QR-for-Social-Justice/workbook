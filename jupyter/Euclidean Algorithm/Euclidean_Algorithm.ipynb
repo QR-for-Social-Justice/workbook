{
 "cells": [
  {
   "cell_type": "markdown",
   "metadata": {
    "collapsed": false
   },
   "source": [
    "# The Euclidean Algorithm with Python"
   ]
  },
  {
   "cell_type": "markdown",
   "metadata": {
    "collapsed": false
   },
   "source": [
    "The goal of this Python module is to give you a greater understanding of the Euclidean Algorithm by designing a function to compute the greatest common divisor $\\gcd(a,b)$ of two whole numbers $a$ and $b$.\n",
    "\n",
    "Recall the steps in the Euclidean Algorithm when computing $\\gcd(a,b)$, assuming $a < b$:\n",
    "\n",
    "1. Divide the larger of $a$ and $b$ by the smaller. Since we're assuming $a < b$, we'd divide $b$ by $a$.\n",
    "2. Keep the remainder and $a$. Since the remainder of $b/a$ is smaller than $a$, let's rename $a$ to $b$, and call the remainder our new $a$.\n",
    "For example, after dividing $b=13$ by $a=5$, we get a remainder of $3$. We'd then rename $a=3$, $b=5$.\n",
    "3. Repeat this process until one of your numbers becomes $0$. Since at each stage we rename $a$ to be the smaller of the two numbers, we'd repeat until $a=0$.\n",
    "4. At this point, the gcd is the other (nonzero) number, $b$.\n",
    "\n",
    "We need to figure out how to ask Python to take the remainder of $b/a$. What mathematical process do we already know how to do in Python that would give us the remainder? Write your answer below."
   ]
  },
  {
   "cell_type": "markdown",
   "metadata": {
    "collapsed": false
   },
   "source": [
   ]
  },
  {
   "cell_type": "markdown",
   "metadata": {
    "collapsed": false
   },
   "source": [
    "In Sage, the code for \"reduce a modulo b\" is `Mod(a,b)` or, equivalently, `a % b`. For example, to reduce $43 \\mod 26$, you'd write `Mod(43,26)` or `43 % 26`. (Here, when you see the \"percent\" symbol, think of division and finding a remainder.)\n",
    "\n",
    "Below, write and run the code to reduce each of the following:\n",
    "1. $263 \\mod 123$\n",
    "2. $548 \\mod 32$\n",
    "3. $91042 \\mod 8321$"
   ]
  },
  {
   "cell_type": "code",
   "execution_count": 0,
   "metadata": {
    "collapsed": false
   },
   "outputs": [
   ],
   "source": [
    "# 1.\n"
   ]
  },
  {
   "cell_type": "code",
   "execution_count": 0,
   "metadata": {
    "collapsed": false
   },
   "outputs": [
   ],
   "source": [
    "# 2.\n"
   ]
  },
  {
   "cell_type": "code",
   "execution_count": 0,
   "metadata": {
    "collapsed": false
   },
   "outputs": [
   ],
   "source": [
    "# 3.\n"
   ]
  },
  {
   "cell_type": "markdown",
   "metadata": {
    "collapsed": false
   },
   "source": [
    "Now, let's write code for each step in the Euclidean Algorithm. For now, let's assume that $a\\neq 0$ and that $a\\lt b$.\n",
    "\n",
    "In the first step of the Euclidean Algorithm, we replace $b$ with $b\\mod a$. In Python, \"replace $x$ with $y$\" is written `x = y`.\n",
    "\n",
    "Below, write the code to replace $b$ with $b \\mod a$."
   ]
  },
  {
   "cell_type": "code",
   "execution_count": 0,
   "metadata": {
    "collapsed": false
   },
   "outputs": [
   ],
   "source": [
   ]
  },
  {
   "cell_type": "markdown",
   "metadata": {
    "collapsed": false
   },
   "source": [
    "Step 2 is to repeat Step 1 \"until one of our numbers is 0\". The way we do this in Python is with a *`while` loop*. A `while` loop says \"run the code below as long as some statement is true\". Contrast with a `for` loop, which runs e.g. for every number in a given range. In a `while` loop, the loop will stop once the specified condition is *no longer* met.\n",
    "\n",
    "Just like a `for` loop, when beginning a `while` loop, you enter a colon. Everything that should be repeated is tabbed over. Once the loop ends, anything you want Python to do afterwards is not tabbed over.\n",
    "\n",
    "Here's a simple example of a while loop:\n",
    "\n",
    "```\n",
    "x = 1\n",
    "while x < 4:\n",
    "    print(x)\n",
    "    x = x + 1\n",
    "```\n",
    "\n",
    "This code says \"start with $x=1$. Then, as long as $x$ is less than $4$, print out $x$, then replace $x$ with $x+1$. Stop doing this as soon as $x\\geq 4$.\" What do you think this code will do? Write your guess below. Then run the code in the next box to see what it does. Did you guess right?"
   ]
  },
  {
   "cell_type": "markdown",
   "metadata": {
    "collapsed": false
   },
   "source": [
   ]
  },
  {
   "cell_type": "code",
   "execution_count": 0,
   "metadata": {
    "collapsed": false
   },
   "outputs": [
   ],
   "source": [
    "x = 1\n",
    "while x < 4:\n",
    "    print(x)\n",
    "    x = x + 1"
   ]
  },
  {
   "cell_type": "markdown",
   "metadata": {
    "collapsed": false
   },
   "source": [
    "In our case, we want to run code as long as $a \\neq 0$, since this means the code will stop when $a=0$. In Python, \"not equal to\" is written `!=`. (The exclamation mark is \"crossing out\" the equals sign.) So, for example, to say \"$x$ is not equal to $5$\", you'd write `x != 5`.\n",
    "\n",
    "Below, write the first line of a while loop that will run as long as $a \\neq 0$. Remember to put a colon after the first line, and don't run your code yet! Underneath your first line, tabbed over, write the code to replace $b$ with $b \\mod a$. This code corresponds to steps 1 and 2 of our algorithm."
   ]
  },
  {
   "cell_type": "code",
   "execution_count": 0,
   "metadata": {
    "collapsed": false
   },
   "outputs": [
   ],
   "source": [
    "# 1.1\n"
   ]
  },
  {
   "cell_type": "markdown",
   "metadata": {
    "collapsed": false
   },
   "source": [
    "Think through how the Euclidean Algorithm would work for $a=2,b=3$. First it would reduce $b\\mod{a}$, getting a new $b$-value of $1$. At this point, $a=2$ and $b=1$. What happens at this stage if we try to reduce $b\\mod{a}$? Explain your answer."
   ]
  },
  {
   "cell_type": "markdown",
   "metadata": {
    "collapsed": false
   },
   "source": [
   ]
  },
  {
   "cell_type": "markdown",
   "metadata": {
    "collapsed": false
   },
   "source": [
    "For the reason you mentioned above, if we continued replacing $b$ with $b\\mod{a}$ at each step, never changing the roles of $a$ or $b$, the code would never stop running. This is because reducing a smaller number modulo a bigger number *doesn't change the smaller number*. On a clock with $2$ hours, 1:00 is just 1:00!\n",
    "\n",
    "The way we'll fix this is by telling Python to interchange the roles of $a$ and $b$ after each reduction step. The code to do this is `a,b=b,a`. This tells Python to take the value to the left of the first comma ($a$) and replace it with the value to the left of the second comma ($b$). Simultaneously, this code tells Python to replace the value to the *right* of the first comma ($b$) with the value to the *right* of the second comma ($a$). Overall, thus, the code interchanges the roles of $a$ and $b$.\n",
    "\n",
    "Below, copy-paste your code from (1.1), but then add the code to interchange the values of $a$ and $b$ tabbed over **below the `while` loop**."
   ]
  },
  {
   "cell_type": "code",
   "execution_count": 0,
   "metadata": {
    "collapsed": false
   },
   "outputs": [
   ],
   "source": [
    "# 1.2\n"
   ]
  },
  {
   "cell_type": "markdown",
   "metadata": {
    "collapsed": false
   },
   "source": [
    "We're almost done! After completing steps 1 and 2, the last step is to have the code spit out the nonzero number. Since our loop runs *until* $a = 0$, at the end of our loop, $a = 0$. So $b$ is the nonzero number we want.\n",
    "\n",
    "Remember that the Pythonic expression for \"spit `something` out\" is `print(something)` (here you'd replace the variable `something` with whatever variable you want to return). Below, copy-paste your code from (1.2), but this time, add code below (but not inside!) your while loop to spit out the number $b$, which will be our gcd. **Don't run your code yet**; we'll do that once we define a function below."
   ]
  },
  {
   "cell_type": "code",
   "execution_count": 0,
   "metadata": {
    "collapsed": false
   },
   "outputs": [
   ],
   "source": [
    "# 1.3"
   ]
  },
  {
   "cell_type": "markdown",
   "metadata": {
    "collapsed": false
   },
   "source": [
    "OK, last step! Let's make a *function* out of your code so we don't need to write all of the code out every time we want to compute a gcd. Do you remember how functions work? The first line looks like `def name_of_function(input1, input2):`. Everything under the first line that's part of the function gets tabbed over.\n",
    "\n",
    "In the code block below, define a function called `EA` which takes as inputs two whole numbers $a$ and $b$ where $a\\lt b$ and spits out $\\gcd(a,b)$. (Hint: after writing the line which `def`s your function, just copy/paste your code from earlier below that line. Make sure you tab everything under the `def` line over once, and you'll need another tab underneath the `while` line!\n",
    "\n",
    "Actually, Sage (the app we're using to code in Python) already has a built-in `gcd` function. **So it's important we don't call our function `gcd`.**"
   ]
  },
  {
   "cell_type": "code",
   "execution_count": 1,
   "metadata": {
    "collapsed": false
   },
   "outputs": [
   ],
   "source": [
    "# 1.4 Defining a function\n",
    "def EA(a,b):\n",
    "    while a != 0:\n",
    "        b = Mod(b,a)\n",
    "        a,b = b,a\n",
    "    print(b)"
   ]
  },
  {
   "cell_type": "markdown",
   "metadata": {
    "collapsed": false
   },
   "source": [
    "And for your last question on this assignment, test your brand-new gcd function on a few pairs of numbers! In the code chunk below, tell your function to compute the following:\n",
    "1. $\\gcd(213,543)$\n",
    "2. $\\gcd(32132,54254)$\n",
    "3. $\\gcd(12341324,543513543)$\n",
    "\n",
    "Remember that, in order to use a function you've written, you have to write the name of the function, open parentheses, inputs to the function separated by commas, and close parentheses. For example, to run a function called `zookeeper` on the inputs `monkey, lion, tiger`, you'd write\n",
    "\n",
    "```\n",
    "zookeeper(monkey, lion, tiger)\n",
    "```"
   ]
  },
  {
   "cell_type": "code",
   "execution_count": 2,
   "metadata": {
    "collapsed": false
   },
   "outputs": [
    {
     "name": "stdout",
     "output_type": "stream",
     "text": [
      "3\n"
     ]
    }
   ],
   "source": [
    "#1.\n",
    "EA(213,243)"
   ]
  },
  {
   "cell_type": "code",
   "execution_count": 0,
   "metadata": {
    "collapsed": false
   },
   "outputs": [
   ],
   "source": [
    "#2.\n"
   ]
  },
  {
   "cell_type": "code",
   "execution_count": 0,
   "metadata": {
    "collapsed": false
   },
   "outputs": [
   ],
   "source": [
    "#3.\n"
   ]
  }
 ],
 "metadata": {
  "kernelspec": {
   "display_name": "SageMath 9.4",
   "language": "sagemath",
   "metadata": {
    "cocalc": {
     "description": "Open-source mathematical software system",
     "priority": 10,
     "url": "https://www.sagemath.org/"
    }
   },
   "name": "sage-9.4",
   "resource_dir": "/ext/jupyter/kernels/sage-9.4"
  },
  "language_info": {
   "codemirror_mode": {
    "name": "ipython",
    "version": 3
   },
   "file_extension": ".py",
   "mimetype": "text/x-python",
   "name": "python",
   "nbconvert_exporter": "python",
   "pygments_lexer": "ipython3",
   "version": "3.9.5"
  }
 },
 "nbformat": 4,
 "nbformat_minor": 4
}
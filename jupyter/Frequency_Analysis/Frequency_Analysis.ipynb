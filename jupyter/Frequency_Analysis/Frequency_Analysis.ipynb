{
 "cells": [
  {
   "cell_type": "markdown",
   "metadata": {
    "collapsed": false
   },
   "source": [
    "## Python Module: Frequency Analysis\n",
    "\n",
    "Frequency analysis is the process of counting the number of occurrences of ciphertext letters in order to make a guess about what plaintext letters they came from. Frequency analysis only works for *monoalphabetic substitution ciphers*, in which letters are always enciphered the same way (for example, every 'e' in the plaintext is enciphered as a 'T'). Frequency analysis breaks down (though it can be modified to work) in the case of *polyalphabetic substitution ciphers*, in which different occurences of a plaintext letter could be enciphered differently. (For example, one 'e' may be enciphered as a 'T' and another as an 'R'.)\n",
    "\n",
    "For example: For the text \"test\" the frequency of 'e' is 1, 's' is 1 and 't' is 2. The input to the function will be an encrypted body of text that only contains the capital letters A-Z. As output, we will print a list of the frequency for each of the letters A-Z.\n",
    "\n",
    "To begin, let's look at the code for a frequency count of the text \"TEST\".\n",
    "\n",
    "\n",
    "We'll start with an empty count_list ([0,0,0...0,0]). Each 0 in the list will eventually reflect the number of occurrences of a letter in our message.\n",
    "For example, we'll go through the message \"TEST\" looking for the letter \"A\". Since we don't find any \"A\"s, we'll leave the first 0 as a 0.\n",
    "\n",
    "This part of the code adds 26 zeroes to our list of letter counts. We want to use a \"for loop\" here rather than adding 26 zeroes to our list by hand. In other words, we want to tell our computer to \"append\" 0 to our count_list 26 times.\n",
    "\n",
    "Do you remember how to specify the range of numbers between 0 and 25, including 0 and 25? **Edit the chunk of code below to add the correct numerical range in between the parentheses after `range` in the line `for i in range():`**"
   ]
  },
  {
   "cell_type": "code",
   "execution_count": 0,
   "metadata": {
    "collapsed": false
   },
   "outputs": [
   ],
   "source": [
    "alphabet = ['A','B','C','D','E','F','G','H','I','J','K','L','M',\n",
    "           'N','O','P','Q','R','S','T','U','V','W','X','Y','Z']\n",
    "message = \"TEST\"\n",
    "\n",
    "count_list = []\n",
    "\n",
    "## Edit the line of code below ##\n",
    "for i in range():\n",
    "    count_list.append(0)"
   ]
  },
  {
   "cell_type": "markdown",
   "metadata": {
    "collapsed": false
   },
   "source": [
    "For technical reasons, we need to convert our message string to a list of letters (so we can count letters without worrying about e.g. spaces).\n",
    "We do this by going through our message letter by letter and adding each letter to our list.\n",
    "This is done using the command `.append`. \n",
    "\n",
    "If our list were called `cool_list`, the code to do this would be as follows:"
   ]
  },
  {
   "cell_type": "code",
   "execution_count": 20,
   "metadata": {
    "collapsed": false
   },
   "outputs": [
   ],
   "source": [
    "# start with a blank list\n",
    "cool_list = []\n",
    "for i in message:\n",
    "    cool_list.append(i)"
   ]
  },
  {
   "cell_type": "markdown",
   "metadata": {
    "collapsed": false
   },
   "source": [
    "Below, write the code to begin with a blank list called `letter_list` and append all the letters in our message to `letter_list`. (Hint: copy the code chunk above and just change what you need.)"
   ]
  },
  {
   "cell_type": "code",
   "execution_count": 0,
   "metadata": {
    "collapsed": false
   },
   "outputs": [
   ],
   "source": [
    "## Write your code here ##"
   ]
  },
  {
   "cell_type": "markdown",
   "metadata": {
    "collapsed": false
   },
   "source": [
    "Now, we need to go through `count_list` and add each occurrence of each letter. For example, in the word 'TEST', we want to start at the first T in the message and add $1$ to the entry of `count_list` corresponding to the letter T. Since $T = 19$, we want to add 1 to the 19th entry of `count_list` every time we see a T.\n",
    "\n",
    "The code to add 1 to the 19th entry of `count_list` is:\n",
    "\n",
    "```\n",
    "count_list[19] += 1\n",
    "```\n",
    "\n",
    "Here, \"+=\" denotes that we're replacing the 19th entry of `count_list` with the 19th entry of `count_list` plus 1.\n",
    "\n",
    "**Below, complete the code to replace the $i$th entry of `count_list` with the $i$th entry plus 1.**"
   ]
  },
  {
   "cell_type": "code",
   "execution_count": 0,
   "metadata": {
    "collapsed": false
   },
   "outputs": [
   ],
   "source": [
    "# counts occurences of each letter\n",
    "for x in letter_list:\n",
    "    i = 0\n",
    "    for i in range(0,26):\n",
    "        if x == alphabet[i]:\n",
    "            ## write your code here ##\n",
    "            \n"
   ]
  },
  {
   "cell_type": "markdown",
   "metadata": {
    "collapsed": false
   },
   "source": [
    "The code above spits out a list of 26 numbers, where each number is equal to the number of occurrences of the corresponding letter. For example, if we run the above code on the message `'TEST'`, we'd get the list\n",
    "\n",
    "```\n",
    "[0,0,0,0,1,0,0,0,0,0,0,0,0,0,0,0,0,0,1,2,0,0,0,0,0,0]\n",
    "```\n",
    "\n",
    "where the 1s in the 4th and 17th spots in the list (remember, Python starts counting at 0) reflect the counts of the letters $E = 4$ and $S = 17$, and the 2 in the 18th spot reflects the count of $T = 18$.\n",
    "\n",
    "Do you see any problems? It's annoying to have to count how far out in the list we are in order to determine what letter's frequency we're looking at. It would be ideal if each spot in the list was \"labeled\" with the corresponding letter.\n",
    "\n",
    "The way we'll do this is by *merging* our `alphabet` list with `count_list`. This takes the first entries in each list, in this case `'A'` and `0`, and merges them together into the entry `['A',0]`.\n",
    "\n",
    "Similarly, we'll get the entries \n",
    "\n",
    "```\n",
    "['B',0], ['C',0], ['D',0], ['E',1]\n",
    "```\n",
    "\n",
    ", etc.\n",
    "\n",
    "The Python command to merge two lists together is `zip(list1, list2)`. **Below, write the command to merge the lists `alphabet` and `count_list` together, then name your \"zipped\" list `letter_freq`**."
   ]
  },
  {
   "cell_type": "code",
   "execution_count": 13,
   "metadata": {
    "collapsed": false
   },
   "outputs": [
   ],
   "source": [
    "# pair each letter of the alphabet with its frequency in a new list\n",
    "\n",
    "## Write your code here ##\n"
   ]
  },
  {
   "cell_type": "markdown",
   "metadata": {
    "collapsed": false
   },
   "source": [
    "Lastly, it'd be useful to sort our list from most frequent to least frequent in order to use it to break codes.\n",
    "\n",
    "The way Python sorts lists is with the command \n",
    "\n",
    "```\n",
    "{name of new sorted list} = sorted({list to sort}, key = lambda {name of column to sort by}: {name of column to sort by}[number of column to sort by])\n",
    "```\n",
    "\n",
    "Here, I use curly brackets `{}` to denote where you fill in the blanks. There should be no curly brackets in your code.\n",
    "\n",
    "In this case, we want to sort the list `letter_freq` according to the values in the column `count_list` (which is the first column in the list, since `alphabet` is considered the zeroth column).\n",
    "\n",
    "Below, write the code to perform this sort, name the new sorted list `sorted_letter_freq`, then print the list `sorted_letter_freq`."
   ]
  },
  {
   "cell_type": "code",
   "execution_count": 19,
   "metadata": {
    "collapsed": false
   },
   "outputs": [
   ],
   "source": [
    "# sort by decreasing order of relative frequency and return the frequencies together with the corresponding ciphertext letters\n",
    "\n",
    "## write your code here ##"
   ]
  },
  {
   "cell_type": "markdown",
   "metadata": {
    "collapsed": false
   },
   "source": [
    "Now, let's bring it all together. **Below, copy-paste all your code in order, beginning with the code defining the `alphabet` list, and run it in order to perform a frequency count on the message `'TEST'`.**"
   ]
  },
  {
   "cell_type": "code",
   "execution_count": 21,
   "metadata": {
    "collapsed": false
   },
   "outputs": [
   ],
   "source": [
    "## Copy-paste your code here ##"
   ]
  },
  {
   "cell_type": "markdown",
   "metadata": {
    "collapsed": false
   },
   "source": [
    "Finally, we don't just want code to perform frequency analysis on one message; we want to be able to input any message and have our code perform frequency analysis on that message.\n",
    "\n",
    "As usual, we'll define a *function* that takes as input a ciphertext `message` and outputs the list of letter frequencies, sorted from greatest to least.\n",
    "\n",
    "**Copy-paste your code from above, changing your code as necessary, in order to define such a function `freq_analysis` below.** Don't forget to end the code with a line that `print`s the frequencies."
   ]
  },
  {
   "cell_type": "code",
   "execution_count": 17,
   "metadata": {
    "collapsed": false
   },
   "outputs": [
   ],
   "source": [
    "def freq_analysis(message):\n",
    "    ## copy-paste and edit your code here to define the function ##"
   ]
  },
  {
   "cell_type": "markdown",
   "metadata": {
    "collapsed": false
   },
   "source": [
    "**Once you think you have a working function, test it below by performing frequency analysis on three messages of your choice.** Note that your messages must be all caps and enclosed in `'apostrophes'` or `\"quotation marks\"`."
   ]
  },
  {
   "cell_type": "code",
   "execution_count": 22,
   "metadata": {
    "collapsed": false
   },
   "outputs": [
   ],
   "source": [
    "#Tests\n",
    "\n",
    "## write your code here ##"
   ]
  }
 ],
 "metadata": {
  "kernelspec": {
   "display_name": "SageMath 9.1",
   "language": "sagemath",
   "metadata": {
    "cocalc": {
     "description": "Open-source mathematical software system",
     "priority": 1,
     "url": "https://www.sagemath.org/"
    }
   },
   "name": "sage-9.1",
   "resource_dir": "/ext/jupyter/kernels/sage-9.1"
  },
  "language_info": {
   "codemirror_mode": {
    "name": "ipython",
    "version": 3
   },
   "file_extension": ".py",
   "mimetype": "text/x-python",
   "name": "python",
   "nbconvert_exporter": "python",
   "pygments_lexer": "ipython3",
   "version": "3.7.3"
  }
 },
 "nbformat": 4,
 "nbformat_minor": 4
}
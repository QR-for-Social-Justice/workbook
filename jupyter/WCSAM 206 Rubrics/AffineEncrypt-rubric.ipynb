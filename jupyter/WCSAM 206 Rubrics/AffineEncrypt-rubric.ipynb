{
 "cells": [
  {
   "cell_type": "markdown",
   "metadata": {
    "collapsed": false
   },
   "source": [
    "# Rubric\n",
    "\n",
    "- **50 Points**: student has a working `AffineEncrypt` function\n",
    "- **10 Points**: student successfully reduces $45$ and $32\\mod{26}$\n",
    "- **10 Points**: student explains that the cipher $C\\equiv 13P\\mod{26}$ sends every number to either $26 = A$ or $13 = N$.\n",
    "- **30 Points**: student has a working `AffineEncryptX` function"
   ]
  },
  {
   "cell_type": "markdown",
   "metadata": {
    "collapsed": false
   },
   "source": [
    "# Python Module: Affine Cipher Encryption"
   ]
  },
  {
   "cell_type": "markdown",
   "metadata": {
    "collapsed": false
   },
   "source": [
    "The affine cipher is more complicated than the shift cipher. This is good for encryption security, but makes the cipher even more cumbersome to implement by hand. In this Python module, you'll write a function that takes as inputs a plaintext message $P$, multiplicative key $m$, and additive key $k$, and outputs the ciphertext $C$ via the equation $C\\equiv mP+k\\mod{26}$. Then, you'll encrypt several messages with this function. Finally, you'll develop a new function that allows you to use a larger alphabet to affine-encipher messages, for example by adding characters such as !, ?, and *.\n",
    "\n",
    "Let's begin by outlining the code necessary to encrypt a message using the affine cipher. Luckily, it only takes a small modification of your `ShiftEncrypt` code to encrypt using an affine cipher. Instead of adding $k$, our shift, and then reducing $\\mod 26$, we're first multiplying by $m$, adding $k$, and reducing the result $\\mod 26$.\n",
    "\n",
    "The code to multiply 3 by 7 in Python is `3*7`. The code for the linear function $y=3x+7$ in Python is `y=3*x+7`.\n",
    "\n",
    "If the plaintext letter in our code was 'n', which is 13 on our letter-to-number chart, write the code to encrypt 'n' using the affine cipher $C\\equiv 3P+7\\mod{26}$ in the chunk below. Test that, when you run the code, you get the number $20$, corresponding to the ciphertext letter U."
   ]
  },
  {
   "cell_type": "code",
   "execution_count": 1,
   "metadata": {
    "collapsed": false
   },
   "outputs": [
    {
     "data": {
      "text/plain": [
       "20"
      ]
     },
     "execution_count": 1,
     "metadata": {
     },
     "output_type": "execute_result"
    }
   ],
   "source": [
    "Mod(3*13 + 7, 26)"
   ]
  },
  {
   "cell_type": "markdown",
   "metadata": {
    "collapsed": false
   },
   "source": [
    "Now, the plaintext letter that we're encrypting is not always going to be M, and our keys are not always going to be $m=3$ and $k=7$. Below, write the code to multiply the variable $m$ times the variable $P$, then add $k$. Finally, wrap this code in the parentheses after the word Mod(). **Don't run the code chunk below.**"
   ]
  },
  {
   "cell_type": "code",
   "execution_count": 0,
   "metadata": {
    "collapsed": false
   },
   "outputs": [
   ],
   "source": [
    "Mod(m*P + k, 26)"
   ]
  },
  {
   "cell_type": "markdown",
   "metadata": {
    "collapsed": false
   },
   "source": [
    "Below, under the line `def AffineEncrypt(plaintext, m, k)`, copy-paste the code under the line `def ShiftEncrypt(plaintext, key)` from the `ShiftEncrypt` module (toward the very end, where you're defining the `ShiftEncrypt` function for the first time).  Finally, change your code so instead of just adding $k$, we're multiplying by $m$ first and then adding $k$. Then run the chunk below (nothing should happen yet)."
   ]
  },
  {
   "cell_type": "code",
   "execution_count": 2,
   "metadata": {
    "collapsed": false
   },
   "outputs": [
   ],
   "source": [
    "# Copy-paste your ShiftEncrypt function below and then make the designated changes.\n",
    "def AffineEncrypt(plaintext, m, k):\n",
    "    alph = 'ABCDEFGHIJKLMNOPQRSTUVWXYZ'\n",
    "    ciphertext = ''\n",
    "    for letter in plaintext:\n",
    "        plaintext_number = alph.find(letter)\n",
    "        ciphertext_number = Mod(m*plaintext_number + k, 26)\n",
    "        ciphertext_letter = alph[ciphertext_number]\n",
    "        ciphertext += ciphertext_letter\n",
    "    print(ciphertext)"
   ]
  },
  {
   "cell_type": "markdown",
   "metadata": {
    "collapsed": false
   },
   "source": [
    "## Now it's your turn!"
   ]
  },
  {
   "cell_type": "markdown",
   "metadata": {
    "collapsed": false
   },
   "source": [
    "Use your affine encryption function to encrypt the following messages with their corresponding keys:\n",
    "\n",
    "1. \"GOGRIFFINS\", $m = 5$, $k = 7$\n",
    "2. \"CRYPTOGRAPHYISAWESOME\", $m = 17$, $k = 4$\n",
    "3. \"STOPHAMMERTIME\", $m = 45$, $k = 32$.\n",
    "4. \"NANANANANANANANANABATMAN\", $m = 13$, $k = 0$. "
   ]
  },
  {
   "cell_type": "code",
   "execution_count": 3,
   "metadata": {
    "collapsed": false
   },
   "outputs": [
    {
     "name": "stdout",
     "output_type": "stream",
     "text": [
      "LZLOVGGVUT\n",
      "MHWZPICHEZTWKYEOUYIAU\n",
      "KDMFJGAAERDCAE\n",
      "NANANANANANANANANANANAAN\n"
     ]
    }
   ],
   "source": [
    "### Write your code for (1)-(4) here ###\n",
    "AffineEncrypt('GOGRIFFINS',5,7)\n",
    "AffineEncrypt('CRYPTOGRAPHYISAWESOME',17,4)\n",
    "AffineEncrypt('STOPHAMMERTIME', 45, 32)\n",
    "AffineEncrypt('NANANANANANANANANABATMAN', 13, 0)"
   ]
  },
  {
   "cell_type": "markdown",
   "metadata": {
    "collapsed": false
   },
   "source": [
    "Look at the way Sage enciphered \"STOPHAMMERTIME\" with multiplicative key 45 and additive key 32. Using modular arithmetic, rewrite the equation $C\\equiv 45P+32\\mod{26}$ to an equivalent equation in which each number is reduced mod 26. Write that equation below; you may use = instead of $\\equiv$ for congruence. Test your equation by encrypting the letter \"S\" with it on a separate sheet of paper. Does the resulting ciphertext match that of the function?"
   ]
  },
  {
   "cell_type": "markdown",
   "metadata": {
    "collapsed": false
   },
   "source": [
    "Since 45 = 19 mod 26 and 32 = 6 mod 26, this cipher is equivalent to\n",
    "\n",
    "C = 19P + 6 mod 26"
   ]
  },
  {
   "cell_type": "markdown",
   "metadata": {
    "collapsed": false
   },
   "source": [
    "What happens to the word \"Batman\" in (4)? Why?"
   ]
  },
  {
   "cell_type": "markdown",
   "metadata": {
    "collapsed": false
   },
   "source": [
    "Every letter is converted to either N or A, where even letters are sent to 26 = A and odd letters are sent to 13 = N."
   ]
  },
  {
   "cell_type": "markdown",
   "metadata": {
    "collapsed": false
   },
   "source": [
    "Finally, define a function that uses a larger alphabet of your choice. For example, you could add the special characters ~!? to your alphabet. Be sure to adjust the modulus accordingly! Then, use this function to encrypt a message of your choice."
   ]
  },
  {
   "cell_type": "code",
   "execution_count": 2,
   "metadata": {
    "collapsed": false
   },
   "outputs": [
    {
     "name": "stdout",
     "output_type": "stream",
     "text": [
      "!C!GWE?KTA\n"
     ]
    }
   ],
   "source": [
    "def AffineEncryptX(plaintext, m, k):\n",
    "    ### Write your code here ###\n",
    "    alph = 'ABCDEFGHIJKLMNOPQRSTUVWXYZ!?'\n",
    "    ciphertext = ''\n",
    "    for letter in plaintext:\n",
    "        plaintext_number = alph.find(letter)\n",
    "        ciphertext_number = Mod(m*plaintext_number + k, 28)\n",
    "        ciphertext_letter = alph[ciphertext_number]\n",
    "        ciphertext += ciphertext_letter\n",
    "    print(ciphertext)\n",
    "AffineEncryptX('YAYEUCLID!',15,2)"
   ]
  }
 ],
 "metadata": {
  "kernelspec": {
   "display_name": "SageMath 9.1",
   "language": "sagemath",
   "metadata": {
    "cocalc": {
     "description": "Open-source mathematical software system",
     "priority": 1,
     "url": "https://www.sagemath.org/"
    }
   },
   "name": "sage-9.1",
   "resource_dir": "/ext/jupyter/kernels/sage-9.1"
  },
  "language_info": {
   "codemirror_mode": {
    "name": "ipython",
    "version": 3
   },
   "file_extension": ".py",
   "mimetype": "text/x-python",
   "name": "python",
   "nbconvert_exporter": "python",
   "pygments_lexer": "ipython3",
   "version": "3.7.3"
  }
 },
 "nbformat": 4,
 "nbformat_minor": 4
}
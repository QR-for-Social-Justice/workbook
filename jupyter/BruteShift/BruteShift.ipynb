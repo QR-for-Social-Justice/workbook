{
 "cells": [
  {
   "cell_type": "markdown",
   "metadata": {
    "collapsed": false
   },
   "source": [
    "# Decrypting Shift Ciphers Using Brute Force\n",
    "\n",
    "## What is brute force?\n",
    "\n",
    "Let's say you intercept a message that you know was encrypted with a shift cipher, but you don't know the key. Is it possible to just try every possible key until you figure out what the message says?\n",
    "\n",
    "With shift ciphers and some other simple types of ciphers, the answer is yes! This is a good reason that the shift cipher is not currently used for military purposes. It was all well and good for Julius Caesar when no one was aware that shift ciphers existed, but now that they're commonly known, any shift-ciphered message could be broken by a (not particularly bright) computer in a few seconds.\n",
    "\n",
    "Breaking a cipher by **brute force** (or a **brute-force attack**) means trying to decrypt a message using all possible keys until you find a key that generates reasonable English plaintext. \n",
    "\n",
    "Let's start with a specific example. Say you encounter the ciphertext \"PBVHFUHW\", and you know it's been encrypted using a shift cipher (with unknown key). How would you execute a brute-force attack on this message with pen and paper? In the text box below, write out the steps you would take. How many possible keys would we have to try to decrypt a message that has been enciphered using an unknown shift cipher? Why?"
   ]
  },
  {
   "cell_type": "markdown",
   "metadata": {
    "collapsed": false
   },
   "source": [
   ]
  },
  {
   "cell_type": "markdown",
   "metadata": {
    "collapsed": false
   },
   "source": [
    "## The `range` command\n",
    "\n",
    "It would be quite a pain to write out all those numbers each time we wanted to tell Python to try all shifts. Thankfully, Python has a built-in command that denotes all numbers in a given range.\n",
    "\n",
    "Say you want the numbers 0, 1, 2, 3, 4, 5, and 6. The \"Sagely\" way of doing this is `srange(0,7)` (the `s` stands for 'Sage'). Notice that the second number in the parentheses is never reached. So Sage's \"syntax\" (the language it uses) for number ranges is \n",
    "\n",
    "``srange(first number in the range, last number in the range + 1)``\n",
    "\n",
    "Below, write the Sage command to print the numbers 0 through 23. Then run your command and see if it works. Remember that ``print(7)`` is the command to print the number 7. If your code doesn't work, talk to a group member or to your instructor."
   ]
  },
  {
   "cell_type": "code",
   "execution_count": 0,
   "metadata": {
    "collapsed": false
   },
   "outputs": [
   ],
   "source": [
   ]
  },
  {
   "cell_type": "markdown",
   "metadata": {
    "collapsed": false
   },
   "source": [
    "Let's see how to decrypt the message 'PBVHFUHW' if all we know is that it was encrypted with a shift cipher (unknown shift). First, just like with encryption, we want to define a cipher alphabet: in this case, all capital English letters."
   ]
  },
  {
   "cell_type": "code",
   "execution_count": 1,
   "metadata": {
    "collapsed": false
   },
   "outputs": [
   ],
   "source": [
    "# Define our cipher alphabet as all capital English letters\n",
    "\n",
    "alph = 'ABCDEFGHIJKLMNOPQRSTUVWXYZ'"
   ]
  },
  {
   "cell_type": "markdown",
   "metadata": {
    "collapsed": false
   },
   "source": [
    "What else do we need? Well, we have to tell the computer what plaintext we want to decrypt. Just like we did in the previous Sage module, we label our plaintext with the variable ``plaintext``. After we type the line below, every time we write ``plaintext``, Sage will replace it with ``'PBVHFUHW'``. That way, we don't have to remember and re-type the ciphertext every time we want to refer to it."
   ]
  },
  {
   "cell_type": "code",
   "execution_count": 1,
   "metadata": {
    "collapsed": false
   },
   "outputs": [
   ],
   "source": [
    "# Input the ciphertext we want to decrypt\n",
    "\n",
    "ciphertext = 'PBVHFUHW'"
   ]
  },
  {
   "cell_type": "markdown",
   "metadata": {
    "collapsed": false
   },
   "source": [
    "Now, go back to the `ShiftEncrypt` Sage module. What was our next step in that case? Would we be able to use the same next step here? Why or why not? Write your answer below."
   ]
  },
  {
   "cell_type": "markdown",
   "metadata": {
    "collapsed": false
   },
   "source": [
    "Replace this text with your answer."
   ]
  },
  {
   "cell_type": "markdown",
   "metadata": {
    "collapsed": false
   },
   "source": [
    "It looks like we're going to have to try every possible shift between $0$ and $25$, including $0$ and $25$. Below, write the `srange` command that describes the range of numbers $0,1,2,\\dots,25$. Then test your command by running it and verifying that it prints the correct set of numbers. If it doesn't work, talk to someone."
   ]
  },
  {
   "cell_type": "code",
   "execution_count": 0,
   "metadata": {
    "collapsed": false
   },
   "outputs": [
   ],
   "source": [
   ]
  },
  {
   "cell_type": "markdown",
   "metadata": {
    "collapsed": false
   },
   "source": [
    "## Testing all shifts using a `for` loop\n",
    "\n",
    "Great! You've found the code that describes the range of numbers $0,1,2,3,\\dots,25$. Now we want the computer to try every possible one of these numbers as a shift. In other words, `for` every one of these numbers, we want to try the ShiftDecrypt process we encoded in the last module.\n",
    "\n",
    "Here's a great thing about Python: it's \"stackable\". In other words, we've already written the code to decrypt a message with known key in the `ShiftDecrypt` module, so we don't need to rewrite it again. We can simply copy/paste that code into this module. Then, whenever we want to try a specific key, say $7$, on a specific message, say \"GJKRGE\", we can just write\n",
    "\n",
    "``ShiftDecrypt('GJKRGE',7)``.\n",
    "\n",
    "Below, copy/paste your function from code chunk (1.9) of the ShiftDecrypt module and run it. (It shouldn't do anything, but running it in this worksheet means the `ShiftDecrypt` command is now accessible to us for the rest of the module.)"
   ]
  },
  {
   "cell_type": "code",
   "execution_count": 0,
   "metadata": {
    "collapsed": false
   },
   "outputs": [
   ],
   "source": [
   ]
  },
  {
   "cell_type": "markdown",
   "metadata": {
    "collapsed": false
   },
   "source": [
    "Time for our `for` loop! For every possible shift between $0$ and $25$, we want to try `ShiftDecrypt`ing the ciphertext using that shift. \n",
    "\n",
    "Underneath the `for` loop below, tabbed over, write the code that would allow you to run the function `ShiftDecrypt` on the variable `ciphertext` with the key being the variable `shift`."
   ]
  },
  {
   "cell_type": "code",
   "execution_count": 0,
   "metadata": {
    "collapsed": false
   },
   "outputs": [
   ],
   "source": [
    "# Define our cipher alphabet as all capital English letters\n",
    "\n",
    "alph = 'ABCDEFGHIJKLMNOPQRSTUVWXYZ'\n",
    "\n",
    "# Input the ciphertext we want to decrypt\n",
    "\n",
    "ciphertext = 'PBVHFUHW'\n",
    "\n",
    "for shift in range(0,26):\n",
    "    ShiftDecrypt(ciphertext, shift)"
   ]
  },
  {
   "cell_type": "markdown",
   "metadata": {
    "collapsed": false
   },
   "source": [
    "Test your code by running it. Can you figure out what the plaintext corresponding to the ciphertext 'PBVHFUHW'? If so, write that plaintext below and discuss how you found it. If not, explain why not."
   ]
  },
  {
   "cell_type": "markdown",
   "metadata": {
    "collapsed": false
   },
   "source": [
   ]
  },
  {
   "cell_type": "markdown",
   "metadata": {
    "collapsed": false
   },
   "source": [
    "Below, based on your investigations so far, discuss how secure you think the shift cipher is. Would you use the shift cipher to send a message to a friend? To store the password to your Facebook/Instagram/Snapchat account? What about to send military messages? Explain your answers."
   ]
  },
  {
   "cell_type": "code",
   "execution_count": 0,
   "metadata": {
    "collapsed": false
   },
   "outputs": [
   ],
   "source": [
   ]
  },
  {
   "cell_type": "markdown",
   "metadata": {
    "collapsed": false
   },
   "source": [
    "## The `BruteShift` function\n",
    "\n",
    "Now, we'll write a function that allows us to brute force any intercepted shift-enciphered message. As before, when shift ciphers are used in the real world, the ciphertext is almost certain not to be 'PBVHFUHW'. Instead of this specific ciphertext, we want to allow ourselves the freedom to *define* whatever ciphertext we want. In other words, we want ``ciphertext`` to be the *input* to a function.\n",
    "\n",
    "We can almost exactly recycle our code from above, where we brute-force decrypted 'PBVHFUHW'. However, we'll need to replace any references to specific ciphertext with the variable `ciphertext`.\n",
    "\n",
    "In the code box below, remove all references to the ciphertext 'PBVHFUHW', replacing them with references to the variable `ciphertext`. Then try running the chunk. Once you've run the chunk and observed what happens, read the text below."
   ]
  },
  {
   "cell_type": "code",
   "execution_count": 0,
   "metadata": {
    "collapsed": false
   },
   "outputs": [
   ],
   "source": [
   ]
  },
  {
   "cell_type": "markdown",
   "metadata": {
    "collapsed": false
   },
   "source": [
    "The chunk above should have again spit out the $26$ possible plaintexts corresponding to the plaintext 'PBVHFUHW'. This is because we've already told Python in the previous section that `ciphertext` is a placeholder for the text 'DOFCOMWUYMUL'. \n",
    "\n",
    "As before, to save us from having to write out all this code anytime we want to decrypt a message with a shift cipher, we'll wrap everything up in a **function**. Then, if we want to brute-force decrypt the message 'AJTQETA',\n",
    "\n",
    "``BruteShift('AJTQETA')``\n",
    "\n",
    "Just like a mathematical function like $f(x)=3x+2$, Python functions have *inputs* or *independent variables* (like $x$ in the example $f(x)=3x+2$) and *outputs* or *dependent variables* (like the $3x+2$). For every input $x$ (for example $x=3$), the function outputs $3$ times that input plus $2$. So for the input $3$, the function $f(x)$ spits out $11$.\n",
    "\n",
    "Remember from Codecademy that, to start defining a Python function, you have to start with a `def` command. I'll set the `def` command up for you below; try copy-pasting your code from the chunk above underneath the `def` command. Remember that everything the function does has to be tabbed over once. Then run the chunk below."
   ]
  },
  {
   "cell_type": "code",
   "execution_count": 0,
   "metadata": {
    "collapsed": false
   },
   "outputs": [
   ],
   "source": [
    "def BruteShift(ciphertext):\n",
    "    "
   ]
  },
  {
   "cell_type": "markdown",
   "metadata": {
    "collapsed": false
   },
   "source": [
    "## Exercises\n",
    "\n",
    "1. Use your shiny new function to decrypt the phrase \"DLLAZLABPJRPQKLQVFBIAQLYORQBCLOZB\" (spaces removed) given that it was encrypted with a shift cipher. Write the code you use to do this and run that code below."
   ]
  },
  {
   "cell_type": "code",
   "execution_count": 0,
   "metadata": {
    "collapsed": false
   },
   "outputs": [
   ],
   "source": [
   ]
  },
  {
   "cell_type": "markdown",
   "metadata": {
    "collapsed": false
   },
   "source": [
    "2. Below, copy-paste your beefed-up `ShiftEncrypt` function from Exercise 2 of that assignment and run the chunk."
   ]
  },
  {
   "cell_type": "code",
   "execution_count": 0,
   "metadata": {
    "collapsed": false
   },
   "outputs": [
   ],
   "source": [
   ]
  },
  {
   "cell_type": "markdown",
   "metadata": {
    "collapsed": false
   },
   "source": [
    "Now, use that beefed-up `ShiftEncrypt` function to encrypt a message in the chunk below."
   ]
  },
  {
   "cell_type": "code",
   "execution_count": 0,
   "metadata": {
    "collapsed": false
   },
   "outputs": [
   ],
   "source": [
   ]
  },
  {
   "cell_type": "markdown",
   "metadata": {
    "collapsed": false
   },
   "source": [
    "Finally, below, define a function that uses brute force to decrypt a message that was encrypted using the larger alphabet from Exercise $2$ from the `ShiftDecrypt` module. Be sure to adjust the modulus accordingly!"
   ]
  },
  {
   "cell_type": "code",
   "execution_count": 0,
   "metadata": {
    "collapsed": false
   },
   "outputs": [
   ],
   "source": [
   ]
  },
  {
   "cell_type": "markdown",
   "metadata": {
    "collapsed": false
   },
   "source": [
    "3. Finally, test your new function by first using your beefed-up `ShiftEncrypt` function from Exercise 2 of that assignment to encrypt a message. Then, in the box below, input the encrypted message and run your beefed-up `BruteDecrypt` function from Exercise $2$ above to decrypt it. Did you get the plaintext you started with? Why or why not?"
   ]
  },
  {
   "cell_type": "code",
   "execution_count": 0,
   "metadata": {
    "collapsed": false
   },
   "outputs": [
   ],
   "source": [
    "# Write the code to decrypt your encrypted message here."
   ]
  },
  {
   "cell_type": "markdown",
   "metadata": {
    "collapsed": false
   },
   "source": [
    "Below, describe whether you got the plaintext you started with and why or why not."
   ]
  },
  {
   "cell_type": "markdown",
   "metadata": {
    "collapsed": false
   },
   "source": [
   ]
  }
 ],
 "metadata": {
  "kernelspec": {
   "display_name": "SageMath 9.1",
   "language": "sagemath",
   "metadata": {
    "cocalc": {
     "description": "Open-source mathematical software system",
     "priority": 1,
     "url": "https://www.sagemath.org/"
    }
   },
   "name": "sage-9.1",
   "resource_dir": "/ext/jupyter/kernels/sage-9.1"
  },
  "language_info": {
   "codemirror_mode": {
    "name": "ipython",
    "version": 3
   },
   "file_extension": ".py",
   "mimetype": "text/x-python",
   "name": "python",
   "nbconvert_exporter": "python",
   "pygments_lexer": "ipython3",
   "version": "3.7.3"
  }
 },
 "nbformat": 4,
 "nbformat_minor": 4
}
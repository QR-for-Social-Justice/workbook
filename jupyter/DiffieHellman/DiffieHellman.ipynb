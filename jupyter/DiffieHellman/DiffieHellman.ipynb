{
 "cells": [
  {
   "cell_type": "markdown",
   "metadata": {
    "collapsed": false
   },
   "source": [
    "Our goal is to understand the program below, which calculates the public keys and shared secret for Diffie-Hellman."
   ]
  },
  {
   "cell_type": "code",
   "execution_count": 1,
   "metadata": {
    "cocalc": {
     "outputs": {
      "1": {
       "name": "input",
       "opts": {
        "password": false,
        "prompt": "Enter the common prime:"
       },
       "output_type": "stream",
       "value": "11"
      },
      "2": {
       "name": "input",
       "opts": {
        "password": false,
        "prompt": "Enter the primitive root:"
       },
       "output_type": "stream",
       "value": "7"
      },
      "3": {
       "name": "input",
       "opts": {
        "password": false,
        "prompt": "Enter Alice's private key:"
       },
       "output_type": "stream",
       "value": "9"
      },
      "4": {
       "name": "input",
       "opts": {
        "password": false,
        "prompt": "Enter Bob's private key:"
       },
       "output_type": "stream",
       "value": "4"
      },
      "5": {
       "name": "input",
       "opts": {
        "password": false,
        "prompt": "Press any key to exit:"
       },
       "output_type": "stream"
      },
      "6": {
       "name": "input",
       "opts": {
        "password": false,
        "prompt": "Press any key to exit:"
       },
       "output_type": "stream"
      }
     }
    },
    "collapsed": false
   },
   "outputs": [
    {
     "name": "stdout",
     "output_type": "stream",
     "text": [
      "This program calculates the public keys and shared secret for Diffie Hellman:\n"
     ]
    },
    {
     "name": "stdout",
     "output_type": "stream",
     "text": "Enter the common prime: 11"
    },
    {
     "name": "stdout",
     "output_type": "stream",
     "text": "Enter the primitive root: 7"
    },
    {
     "name": "stdout",
     "output_type": "stream",
     "text": "Enter Alice's private key: 9"
    },
    {
     "name": "stdout",
     "output_type": "stream",
     "text": "Enter Bob's private key: 4"
    },
    {
     "name": "stdout",
     "output_type": "stream",
     "text": "Press any key to exit: "
    },
    {
     "name": "stdout",
     "output_type": "stream",
     "text": "Press any key to exit: "
    }
   ],
   "source": [
    "# Program to validate Diffie Hellman Maths\n",
    "print(\"This program calculates the public keys and shared secret for Diffie Hellman:\")\n",
    "N = int(input(\"Enter the common prime:\")) # No validations on inputs\n",
    "g = int(input(\"Enter the primitive root:\"))\n",
    "private_a = int(input(\"Enter Alice's private key:\"))\n",
    "private_b = int(input(\"Enter Bob's private key:\"))\n",
    "public_a = pow(g,private_a,N)\n",
    "public_b = pow(g,private_b,N)\n",
    "shared_key_one = pow(public_b,private_a,N)\n",
    "shared_key_two = pow(public_a,private_b,N)\n",
    "if shared_key_one != shared_key_two:\n",
    "    print(\"There has been an error, the program will exit\")\n",
    "    exit()\n",
    "else:\n",
    "    print(\"The public key of Alice is:\",public_a)\n",
    "    print(\"The public key of Bob is:\",public_b)\n",
    "    print(\"The shared secret is:\",shared_key_one)\n",
    "input(\"Press any key to exit:\")\n",
    "exit()"
   ]
  },
  {
   "cell_type": "markdown",
   "metadata": {
    "collapsed": false
   },
   "source": [
    "To that end, it's useful to examine the steps of the Diffie-Hellman key exchange process, and then convert each of these steps into Python.\n",
    "\n",
    "Diffie-Hellman is based on the **one-way function** of **exponentiation modulo $p$**, where $p$ is some prime number (usually really big). **Exponentiation** is the process of finding powers (or exponents) of some number. \n",
    "\n",
    "In Python, exponents like $a^{b}$ are denoted `a**b`, where `**` can be read \"to the power of\". In the below text boxes, in order, write the Python code to compute each of the following:\n",
    "\n",
    "1. $4^{32}$\n",
    "2. $18^{1053}$\n",
    "3. $8651232^{2341543}$."
   ]
  },
  {
   "cell_type": "code",
   "execution_count": 6,
   "metadata": {
    "collapsed": false
   },
   "outputs": [
   ],
   "source": [
    "#1. 4^32\n"
   ]
  },
  {
   "cell_type": "code",
   "execution_count": 4,
   "metadata": {
    "collapsed": false
   },
   "outputs": [
   ],
   "source": [
    "#2. 18^1053\n"
   ]
  },
  {
   "cell_type": "code",
   "execution_count": 5,
   "metadata": {
    "collapsed": false,
    "scrolled": true
   },
   "outputs": [
   ],
   "source": [
    "#3. 8651232^2341543.\n"
   ]
  },
  {
   "cell_type": "markdown",
   "metadata": {
    "collapsed": false
   },
   "source": [
    "Did you notice how long some of these computations took (in particular, the last one)? In the upper right corner of each code chunk, Python will output how long it took to run. How long did it take to run each of the exponentiations above? Double-click on the words ''type Markdown and LaTeX'' below, and type your answers in the resulting text box."
   ]
  },
  {
   "cell_type": "markdown",
   "metadata": {
    "collapsed": false
   },
   "source": [
   ]
  },
  {
   "cell_type": "markdown",
   "metadata": {
    "collapsed": false
   },
   "source": [
    "Our goal is to speed up the process of finding powers modulo $p$, where $p$ is some large prime number. **The key insight** is that, to compute, say, $a^{17}\\mod{p}$, it's easiest to first compute $a^{2}$, reduce it modulo $p$, then square the result to get $a^{4}\\mod{p}$, then reduce mod $p$, then square again to get $a^{8}\\mod{p}$, etc., building up to the power of $17$ and reducing at each step. This process is called **modular exponentiation**, and it's built into Python.\n",
    "\n",
    "In order to (more) quickly compute $a^{b}\\mod{p}$, type ``pow(a,b,p)``. For example, to compute $18^{32}\\mod{643}$, the Python code is ``pow(18,32,643)``.\n",
    "\n",
    "In the code chunks below, write the three lines of code, in order, to more quickly compute the powers in the three previous code chunks with the specified modulus."
   ]
  },
  {
   "cell_type": "code",
   "execution_count": 0,
   "metadata": {
    "collapsed": false
   },
   "outputs": [
   ],
   "source": [
    "#1. 4^32 mod 233\n"
   ]
  },
  {
   "cell_type": "code",
   "execution_count": 0,
   "metadata": {
    "collapsed": false
   },
   "outputs": [
   ],
   "source": [
    "#2. 18^1053 mod 49142\n"
   ]
  },
  {
   "cell_type": "code",
   "execution_count": 0,
   "metadata": {
    "collapsed": false
   },
   "outputs": [
   ],
   "source": [
    "#3. 8651232^2341543 mod 341243\n"
   ]
  },
  {
   "cell_type": "markdown",
   "metadata": {
    "collapsed": false
   },
   "source": [
    "Now, it's time to test out the program! Run the code chunk below, and input the correct digits at each step in order to perform the Diffie-Hellman key exchange using **common prime 19, primitive root (the base for the exponent) 7, Alice's private key $17$, and Bob's private key $11$.** Do this key exchange by hand (with a calculator), and double-check that the program outputs the correct answer."
   ]
  },
  {
   "cell_type": "code",
   "execution_count": 0,
   "metadata": {
    "collapsed": false
   },
   "outputs": [
   ],
   "source": [
    "# Program to validate Diffie Hellman Maths\n",
    "print(\"This program calculates the public keys and shared secret for Diffie Hellman:\")\n",
    "N = int(input(\"Enter the common prime:\")) # No validations on inputs\n",
    "g = int(input(\"Enter the primitive root:\"))\n",
    "private_a = int(input(\"Enter Alice's private key:\"))\n",
    "private_b = int(input(\"Enter Bob's private key:\"))\n",
    "public_a = (g**private_a)%N\n",
    "public_b = (g**private_b)%N\n",
    "shared_key_one = (public_b**private_a)%N\n",
    "shared_key_two = (public_a**private_b)%N\n",
    "if shared_key_one != shared_key_two:\n",
    "    print(\"There has been an error, the program will exit\")\n",
    "    exit()\n",
    "else:\n",
    "    print(\"The public key of Alice is:\",public_a)\n",
    "    print(\"The public key of Bob is:\",public_b)\n",
    "    print(\"The shared secret is:\",shared_key_one)\n",
    "input(\"Press any key to exit:\")\n",
    "exit()"
   ]
  },
  {
   "cell_type": "markdown",
   "metadata": {
    "collapsed": false
   },
   "source": [
    "In the text box below, describe each step of the Diffie-Hellman key exchange as you carried it out on your calculator, and answer the question: does this program follow the same steps that you did? Did it output the same answer? Why do you think the program did or didn't match your answer?"
   ]
  },
  {
   "cell_type": "markdown",
   "metadata": {
    "collapsed": false
   },
   "source": [
   ]
  }
 ],
 "metadata": {
  "kernelspec": {
   "display_name": "SageMath 9.1",
   "language": "sagemath",
   "metadata": {
    "cocalc": {
     "description": "Open-source mathematical software system",
     "priority": 1,
     "url": "https://www.sagemath.org/"
    }
   },
   "name": "sage-9.1",
   "resource_dir": "/ext/jupyter/kernels/sage-9.1"
  },
  "language_info": {
   "codemirror_mode": {
    "name": "ipython",
    "version": 3
   },
   "file_extension": ".py",
   "mimetype": "text/x-python",
   "name": "python",
   "nbconvert_exporter": "python",
   "pygments_lexer": "ipython3",
   "version": "3.7.3"
  }
 },
 "nbformat": 4,
 "nbformat_minor": 4
}
{
 "cells": [
  {
   "cell_type": "markdown",
   "metadata": {
    "collapsed": false
   },
   "source": [
    "# Decyprting Shift Ciphers Using Brute Force\n",
    "\n",
    "## What is brute force?\n",
    "\n",
    "Let's say you intercept a message that you know was encrypted with a shift cipher, but you don't know the key. Is it possible to just try every possible key until you figure out what the message says?\n",
    "\n",
    "With shift ciphers and some other simple types of ciphers, the answer is yes! This is a good reason that the shift cipher is not currently used for military purposes. It was all well and good for Julius Caesar when no one was aware that shift ciphers existed, but now that they're commonly known, any shift-ciphered message could be broken by a (not particularly bright) computer in a few seconds.\n",
    "\n",
    "Breaking a cipher by **brute force** (or a **brute-force attack**) means trying to decrypt a message using all possible keys until you find a key that generates reasonable English plaintext. \n",
    "\n",
    "Let's start with a specific example. Say you encounter the ciphertext \"PBVHFUHW\", and you know it's been encrypted using a shift cipher (with unknown key). How would you execute a brute-force attack on this message with pen and paper? In the text box below, write out the steps you would take. How many possible keys would we have to try to decrypt a message that has been enciphered using an unknown shift cipher? Why?"
   ]
  },
  {
   "cell_type": "markdown",
   "metadata": {
    "collapsed": false
   },
   "source": [
   ]
  },
  {
   "cell_type": "markdown",
   "metadata": {
    "collapsed": false
   },
   "source": [
    "## The `range` command\n",
    "\n",
    "It would be quite a pain to write out all those numbers each time we wanted to tell Python to try all shifts. Thankfully, Python has a built-in command that denotes all numbers in a given range.\n",
    "\n",
    "Say you want the numbers 0, 1, 2, 3, 4, 5, and 6. The \"Pythonic\" way of doing this is `range(0,7)`. Notice that the second number in the parentheses is never reached. So Python's \"syntax\" (the language it uses) for number ranges is ``range(first number, last number + 1)``. \n",
    "\n",
    "Below, write the Python command to print the numbers 1 through 23. Then run your command and see if it works. Remember that ``print(7)`` is the command to print the number 7. If your code doesn't work, talk to a group member or to your instructor."
   ]
  },
  {
   "cell_type": "code",
   "execution_count": 0,
   "metadata": {
    "collapsed": false
   },
   "outputs": [
   ],
   "source": [
   ]
  },
  {
   "cell_type": "markdown",
   "metadata": {
    "collapsed": false
   },
   "source": [
    "Let's see how to decrypt the message 'PBVHFUHW' if all we know is that it was encrypted with a shift cipher (unknown shift). First, just like with encryption, we want to define a cipher alphabet: in this case, all capital English letters."
   ]
  },
  {
   "cell_type": "code",
   "execution_count": 1,
   "metadata": {
    "collapsed": false
   },
   "outputs": [
   ],
   "source": [
    "# Define our cipher alphabet as all capital English letters\n",
    "\n",
    "alph = 'ABCDEFGHIJKLMNOPQRSTUVWXYZ'"
   ]
  },
  {
   "cell_type": "markdown",
   "metadata": {
    "collapsed": false
   },
   "source": [
    "What else do we need? Well, we have to tell the computer what plaintext we want to decrypt. Just like we did in the previous Sage module, we label our plaintext with the variable ``plaintext``. After we type the line below, every time we write ``plaintext``, Sage will replace it with ``'PBVHFUHW'``. That way, we don't have to remember and re-type the ciphertext every time we want to refer to it."
   ]
  },
  {
   "cell_type": "code",
   "execution_count": 1,
   "metadata": {
    "collapsed": false
   },
   "outputs": [
   ],
   "source": [
    "# Input the ciphertext we want to decrypt\n",
    "\n",
    "ciphertext = 'PBVHFUHW'"
   ]
  },
  {
   "cell_type": "markdown",
   "metadata": {
    "collapsed": false
   },
   "source": [
    "Now, go back to the `ShiftEncrypt` Sage module. What was our next step in that case? Would we be able to use the same next step here? Why or why not? Write your answer below."
   ]
  },
  {
   "cell_type": "markdown",
   "metadata": {
    "collapsed": false
   },
   "source": [
   ]
  },
  {
   "cell_type": "markdown",
   "metadata": {
    "collapsed": false
   },
   "source": [
    "It looks like we're going to have to try every possible shift between $0$ and $25$, including $0$ and $25$. Below, write the `range` command that describes the range of numbers $0,1,2,\\dots,25$. Then test your command by putting it inside the parentheses in a `print()` command and verifying that it prints the correct set of numbers. If it doesn't work, talk to someone."
   ]
  },
  {
   "cell_type": "code",
   "execution_count": 0,
   "metadata": {
    "collapsed": false
   },
   "outputs": [
   ],
   "source": [
    "def ShiftDecrypt(ciphertext, key):\n",
    "    "
   ]
  },
  {
   "cell_type": "markdown",
   "metadata": {
    "collapsed": false
   },
   "source": [
    "## Testing all shifts using a `for` loop\n",
    "\n",
    "Great! You've found the code that describes the range of numbers $0,1,2,3,\\dots,25$. Now we want the computer to try every possible one of these numbers as a shift. In other words, `for` every one of these numbers, we want to try the ShiftDecrypt process we encoded in the last module.\n",
    "\n",
    "Here's a great thing about Python: it's \"stackable\". In other words, now that we've written the code to decrypt a message with known key, we don't need to rewrite it again. We can simply copy/paste that code into this module. Then, whenever we want to try a specific key, say $7$, on a specific message, say \"GJKRGE\", we can just write\n",
    "\n",
    "``ShiftDecrypt('GJKRGE',7)``.\n",
    "\n",
    "Below, copy/paste your function from code chunk (1.7) of the ShiftDecrypt module and run it."
   ]
  },
  {
   "cell_type": "code",
   "execution_count": 0,
   "metadata": {
    "collapsed": false
   },
   "outputs": [
   ],
   "source": [
   ]
  },
  {
   "cell_type": "code",
   "execution_count": 0,
   "metadata": {
    "collapsed": false
   },
   "outputs": [
   ],
   "source": [
    "message = 'PBVHFUHW'\n",
    "# Now, since we don't know the key, we need to try every possible shift and list them all out so we can decode the ciphertext.\n",
    "\n",
    "# First, let's see how we would test a single key. Say we suspect that the key is 3.\n",
    "key = 3\n",
    "# Start with an empty decrypted message. We'll use a for loop to add ciphertext letters to it, one by one.\n",
    "decrypted = ''\n",
    "# The following for loop cycles through every letter in our plaintext message.\n",
    "for letter in message:\n",
    "# Convert the plaintext letter to a number.\n",
    "    num = alph.find(letter)\n",
    "    # Here, write the code to compute the ciphertext number that we send the plaintext number \"num\" to. \n",
    "    # To undo the shift cipher with key 3, we have to /subtract/ 3 from each ciphertext number.\n",
    "    # Remember the equation for undoing the shift cipher in terms of modular arithmetic! \n",
    "    # Then, append the corresponding character to \"decrypted\".\n",
    "    decrypted += alph[Mod(num-key,26)]\n",
    "    # Here's that \"Mod\" stuff again! Right now, I just want to point out that the 26 in the line above comes from the number of letters in our cipher alphabet.\n",
    "    # If we added the characters ! and ? to our cipher alphabet, we'd have to replace that 26 with a 28.\n",
    "    # This will be relevant when you're answering the questions at the end of the document.\n",
    "# Finish by printing both the ciphertext and decrypted messages.\n",
    "print message,'->',decrypted\n",
    "\n",
    "# OK, that tells us how to test a /single/ key. But what if we don't know the key? We want to test all possible keys.\n",
    "# Basically, we want to tell Python, \"go through all possible shifts and, for EVERY possible shift, \n",
    "# decrypt the message using that shift using the code we just ran through.\n",
    "# Based on what we've done so far, any idea how we'd do this?\n",
    "\n",
    "# We need another for loop.\n",
    "# Basically, we'll paste the code above into a for loop that runs through all possible shifts.\n",
    "\n",
    "# As before, we'll start by setting our ciphertext alphabet and message.\n",
    "\n",
    "alph = 'ABCDEFGHIJKLMNOPQRSTUVWXYZ'\n",
    "message = 'PBVHFUHW'\n",
    "\n",
    "# now, we need to insert a for loop that runs through all possible keys.\n",
    "# what range should we use to go through all possible shifts/keys? Type starting and ending numbers into the parentheses after \"range\" below.\n",
    "\n",
    "for key in range():\n",
    "    # now, we just paste the code starting on line 33 above.\n",
    "    decrypted = ''\n",
    "    for letter in message:\n",
    "        # notice we have TWO for loops, one inside the other.\n",
    "        # these are called \"nested for loops\". Don't worry too much about being able to reproduce these yourself.\n",
    "        num = alph.find(letter)\n",
    "        decrypted += alph[Mod(num-key,26)]\n",
    "    print message,'->',decrypted\n",
    "\n",
    "# After adding the proper range on line 65, test this code by pressing Shift+Enter or clicking the \"Evaluate\" button below. Does it work?\n",
    "# If it doesn't work, double-check your code. In particular, make sure your range on line 62 is of form \"range(first number, last number + 1).\n",
    "# It's easy to forget the +1!\n",
    "\n",
    "# This code prints 26 \"decrypted\" messages, but hopefully only one of them makes any sense.\n",
    "# Write the real plaintext below.\n",
    "# Below, discuss how secure you think the shift cipher is. Would you use the shift cipher to send a message to a friend? To store the password to your Facebook/Instagram/Snapchat account?\n",
    "# What about to send military messages? Explain your answers.\n",
    "\n",
    "\n",
    "\n",
    "# Now, use the above example to define a function called \"ShiftEncrypt\" that takes as inputs a plaintext message and key and outputs both the plaintext and resulting ciphertext message. \n",
    "# Recall that Python defines functions as follows:\n",
    "\n",
    "\"\"\"\n",
    "def function(input1, input2):\n",
    "    hit enter after the colon\n",
    "    then put what you want the function to do with input1 and input2 in this indented block\n",
    "    (basically just copy/paste your code from above, but replace the specific ciphertext with your variable)\n",
    "\"\"\"\n",
    "\n",
    "# What happens if you try to use a key that's larger than your alphabet? Try encoding a message with a shift of 27 and see! Is the result what you expected? Can you do some modular arithmetic to show why this is the case?\n",
    "\n",
    "\n",
    "\n",
    "# Finally, define a function that uses brute force to decrypt a message that was encrypted using a larger alphabet of your choice. \n",
    "# For example, you could use the alphabet ABCDEFGHIJKLMNOPQRSTUVWXYZ~!?. \n",
    "# Be sure to adjust the modulus accordingly!\n",
    "\n"
   ]
  }
 ],
 "metadata": {
  "kernelspec": {
   "display_name": "SageMath 9.4",
   "language": "sagemath",
   "metadata": {
    "cocalc": {
     "description": "Open-source mathematical software system",
     "priority": 10,
     "url": "https://www.sagemath.org/"
    }
   },
   "name": "sage-9.4",
   "resource_dir": "/ext/jupyter/kernels/sage-9.4"
  },
  "language_info": {
   "codemirror_mode": {
    "name": "ipython",
    "version": 2
   },
   "file_extension": ".py",
   "mimetype": "text/x-python",
   "name": "python",
   "nbconvert_exporter": "python",
   "pygments_lexer": "ipython2",
   "version": "2.7.15"
  }
 },
 "nbformat": 4,
 "nbformat_minor": 4
}
{
 "cells": [
  {
   "cell_type": "code",
   "execution_count": 2,
   "metadata": {
    "collapsed": false
   },
   "outputs": [
   ],
   "source": [
    "def EnigmaEncrypt(plaintext, grundstellung):\n",
    "   \n",
    "    def get_index(letter, alphabet):\n",
    "            '''Get index of letter in alphabet'''\n",
    "            for i in range(0, len(alphabet)):\n",
    "                if alphabet[i] == letter:\n",
    "                    return i\n",
    "\n",
    "\n",
    "    def shift(letter, shift, alphabet):\n",
    "            '''Shift letter up/down in the alphabet by given shift'''\n",
    "            for i in range(0, len(alphabet)):\n",
    "                if alphabet[i] == letter:\n",
    "                    return alphabet[(i + shift) % len(alphabet)]\n",
    "\n",
    "\n",
    "    import sys\n",
    "\n",
    "    print(\"################################################\\n\\n\")\n",
    "    # Alphabet variable\n",
    "    alphabet = \"ABCDEFGHIJKLMNOPQRSTUVWXYZ\"\n",
    "    # Set ringstellung\n",
    "    ringstellung = get_index(sys.argv[1].upper(), alphabet)\n",
    "    print(\"Ringstellung: \" + str(ringstellung))\n",
    "    # Set wiring variable\n",
    "    wiring = \"EKMFLGDQVZNTOWYHXUSPAIBRCJ\"\n",
    "    # Set dot position to postion of A in current wiring\n",
    "    dot_position = get_index(\"A\", wiring)\n",
    "    print(\"Dot position: \" + str(dot_position))\n",
    "    # Loop over all letters before ringstellung (in the alpabet); e.g.: ringstellung 5: loop: 0, 1, 2, 3, 4 \n",
    "    for i in range(0, ringstellung):\n",
    "        # Set temporary wiring variable\n",
    "        temp_wiring = wiring\n",
    "        # Set acutall wiring to empty string\n",
    "        wiring = \"\"\n",
    "        # Loop over chars in temporary wiring\n",
    "        for char in temp_wiring:\n",
    "            # Shift the char by one and add that shiftet char to wiring variable\n",
    "            wiring += shift(char, 1, alphabet)\n",
    "        # Add one to dot position, make sure we don't exceed the lenght of the alphabet\n",
    "        dot_position = (dot_position + 1) % len(alphabet)\n",
    "        print(\"Wiring shiftet up the alphabet: \" + wiring)\n",
    "        print(\"New dot position: \" + str(dot_position))\n",
    "    i = 0;\n",
    "    # While the letter at the dot position doesn't match with the ringstellung\n",
    "    while not wiring[dot_position] == alphabet[ringstellung]:\n",
    "        i += 1;\n",
    "        # Rotate the wiring\n",
    "        wiring = wiring[-1:] + wiring[:-1]\n",
    "        print(\"Rotation \" + str(i).zfill(2) + \"; Wiring: \" + wiring)\n",
    "\n",
    "    print(\"--------------------------------------\")\n",
    "    print(\"Ringstellung: \" + alphabet[ringstellung])\n",
    "    print(\"Final mapping:\")\n",
    "    print(alphabet)\n",
    "    print(\"↓↓↓↓↓↓↓↓↓↓↓↓↓↓↓↓↓↓↓↓↓↓↓↓↓↓\")\n",
    "    print(wiring)\n",
    "    print(\"--------------------------------------\")\n",
    "    print(\"################################################\\n\\n\")"
   ]
  },
  {
   "cell_type": "code",
   "execution_count": 3,
   "metadata": {
    "collapsed": false
   },
   "outputs": [
    {
     "name": "stdout",
     "output_type": "stream",
     "text": [
      "################################################\n",
      "\n",
      "\n",
      "Ringstellung: None\n",
      "Dot position: 20\n"
     ]
    },
    {
     "ename": "TypeError",
     "evalue": "'NoneType' object cannot be interpreted as an integer",
     "output_type": "error",
     "traceback": [
      "\u001b[0;31m---------------------------------------------------------------------------\u001b[0m",
      "\u001b[0;31mTypeError\u001b[0m                                 Traceback (most recent call last)",
      "\u001b[0;32m<ipython-input-3-a38275433782>\u001b[0m in \u001b[0;36m<module>\u001b[0;34m()\u001b[0m\n\u001b[0;32m----> 1\u001b[0;31m \u001b[0mEnigmaEncrypt\u001b[0m\u001b[0;34m(\u001b[0m\u001b[0;34m'TEST'\u001b[0m\u001b[0;34m,\u001b[0m \u001b[0;34m'AXW'\u001b[0m\u001b[0;34m)\u001b[0m\u001b[0;34m\u001b[0m\u001b[0;34m\u001b[0m\u001b[0m\n\u001b[0m",
      "\u001b[0;32m<ipython-input-2-9d82a5dc1bc7>\u001b[0m in \u001b[0;36mEnigmaEncrypt\u001b[0;34m(plaintext, grundstellung)\u001b[0m\n\u001b[1;32m     29\u001b[0m     \u001b[0mprint\u001b[0m\u001b[0;34m(\u001b[0m\u001b[0;34m\"Dot position: \"\u001b[0m \u001b[0;34m+\u001b[0m \u001b[0mstr\u001b[0m\u001b[0;34m(\u001b[0m\u001b[0mdot_position\u001b[0m\u001b[0;34m)\u001b[0m\u001b[0;34m)\u001b[0m\u001b[0;34m\u001b[0m\u001b[0;34m\u001b[0m\u001b[0m\n\u001b[1;32m     30\u001b[0m     \u001b[0;31m# Loop over all letters before ringstellung (in the alpabet); e.g.: ringstellung 5: loop: 0, 1, 2, 3, 4\u001b[0m\u001b[0;34m\u001b[0m\u001b[0;34m\u001b[0m\u001b[0;34m\u001b[0m\u001b[0m\n\u001b[0;32m---> 31\u001b[0;31m     \u001b[0;32mfor\u001b[0m \u001b[0mi\u001b[0m \u001b[0;32min\u001b[0m \u001b[0mrange\u001b[0m\u001b[0;34m(\u001b[0m\u001b[0mInteger\u001b[0m\u001b[0;34m(\u001b[0m\u001b[0;36m0\u001b[0m\u001b[0;34m)\u001b[0m\u001b[0;34m,\u001b[0m \u001b[0mringstellung\u001b[0m\u001b[0;34m)\u001b[0m\u001b[0;34m:\u001b[0m\u001b[0;34m\u001b[0m\u001b[0;34m\u001b[0m\u001b[0m\n\u001b[0m\u001b[1;32m     32\u001b[0m         \u001b[0;31m# Set temporary wiring variable\u001b[0m\u001b[0;34m\u001b[0m\u001b[0;34m\u001b[0m\u001b[0;34m\u001b[0m\u001b[0m\n\u001b[1;32m     33\u001b[0m         \u001b[0mtemp_wiring\u001b[0m \u001b[0;34m=\u001b[0m \u001b[0mwiring\u001b[0m\u001b[0;34m\u001b[0m\u001b[0;34m\u001b[0m\u001b[0m\n",
      "\u001b[0;31mTypeError\u001b[0m: 'NoneType' object cannot be interpreted as an integer"
     ]
    }
   ],
   "source": [
    "EnigmaEncrypt('TEST', 'AXW')"
   ]
  }
 ],
 "metadata": {
  "kernelspec": {
   "display_name": "SageMath 9.1",
   "language": "sagemath",
   "metadata": {
    "cocalc": {
     "description": "Open-source mathematical software system",
     "priority": 1,
     "url": "https://www.sagemath.org/"
    }
   },
   "name": "sage-9.1",
   "resource_dir": "/ext/jupyter/kernels/sage-9.1"
  }
 },
 "nbformat": 4,
 "nbformat_minor": 4
}
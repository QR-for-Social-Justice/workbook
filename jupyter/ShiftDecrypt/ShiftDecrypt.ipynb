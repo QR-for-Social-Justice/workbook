{
 "cells": [
  {
   "cell_type": "markdown",
   "metadata": {
    "collapsed": false
   },
   "source": [
    "# Decrypting Shift Ciphers with Known Key\n",
    "\n",
    "## Decrypting a single letter\n",
    "\n",
    "If we know the key, decrypting a letter that was encrypted using a shift cipher just requires undoing the encryption steps. In the last module, we performed the following four steps to encrypt a letter using a shift cipher:\n",
    "\n",
    "1. Convert the plaintext letter to a plaintext number.\n",
    "2. To get a ciphertext number, shift the plaintext number up by the key, looping around so that, for example, Z is replaced with C when the key is $3$. In other words, we're taking the plaintext number plus the key, mod $26$, to get the ciphertext number. \n",
    "3. Convert the ciphertext number to a ciphertext letter. \n",
    "4. Append that letter to our output ciphertext.\n",
    "\n",
    "In order to *undo* this process, we'll have to undo each step *backwards*. If you were given a ciphertext letter (say 'D') and a key (say $20$), what would be your first step if you were trying to decrypt the letter? In words (not Python code), describe this step in the box below. **Hint**: what's easier--reciting the alphabet backwards or performing a single subtraction?"
   ]
  },
  {
   "cell_type": "markdown",
   "metadata": {
    "collapsed": false
   },
   "source": [
    "Change the \"D\" to its corresponding number, "
   ]
  },
  {
   "cell_type": "markdown",
   "metadata": {
    "collapsed": false
   },
   "source": [
    "### Undoing step $3$\n",
    "\n",
    "Effectively, we're *undoing* step 3 first. Here is the code we used to encrypt a letter (given by the variable `plaintext_letter`) in our previous Python module. Note that, just like with encryption, we first want to define a cipher alphabet: in this case, all capital English letters.\n",
    "\n",
    "Lines that begin with a \"hashtag symbol\" # are *comments*, "
   ]
  },
  {
   "cell_type": "code",
   "execution_count": 0,
   "metadata": {
    "collapsed": false
   },
   "outputs": [
   ],
   "source": [
    "# Define our cipher alphabet as all capital English letters\n",
    "\n",
    "alph = 'ABCDEFGHIJKLMNOPQRSTUVWXYZ'\n",
    "\n",
    "# Start with an empty string of ciphertext\n",
    "\n",
    "ciphertext = ''\n",
    "\n",
    "# Carry out the encryption steps\n",
    "\n",
    "# 1. Convert the plaintext letter to a plaintext number.\n",
    "\n",
    "plaintext_number = alph.find(plaintext_letter)\n",
    "\n",
    "# 2. To get a ciphertext number, shift the plaintext number up by the key, looping around so that, for example, Z is replaced with C when the key is 3. In other words, we're taking the plaintext number plus the key, mod 26, to get the ciphertext number. \n",
    "\n",
    "ciphertext_number = Mod(plaintext_number + key, 26)\n",
    "\n",
    "# 3. Convert the ciphertext number to a ciphertext letter.\n",
    "\n",
    "ciphertext_letter = alph[ciphertext_number]\n",
    "\n",
    "# 4. Append that letter to our output ciphertext.\n",
    "\n",
    "ciphertext += ciphertext_letter"
   ]
  },
  {
   "cell_type": "markdown",
   "metadata": {
    "collapsed": false
   },
   "source": [
    "Now, however, we're starting with ciphertext, given unsurprisingly by the variable `ciphertext`, and we want to *end up with* plaintext. Just like we did above, we'll start with an empty string of plaintext using the command\n",
    "\n",
    "``plaintext = ''``\n",
    "\n",
    "(don't worry too much about how this works).\n",
    "\n",
    "Above, step $3$ converted our ciphertext numbers to ciphertext letters using the `alph` command. Step $1$ converted letters to numbers using the `alph.find` command. Which command, `alph` or `alph.find`, do we want to use to convert our ciphertext letters to numbers? Write your answer below."
   ]
  },
  {
   "cell_type": "markdown",
   "metadata": {
    "collapsed": false
   },
   "source": [
   ]
  },
  {
   "cell_type": "markdown",
   "metadata": {
    "collapsed": false
   },
   "source": [
    "Now, say we're given the ciphertext letter 'D'. Below, I'll start with an empty string of plaintext, then assign the variable `ciphertext_letter` to the letter 'D' and the variable `key` to the value $20$ (don't worry too much about how this works). Below my code, write the code to convert the variable `ciphertext_letter` to a number using the command you wrote above, either `alph` or `alph.find`. Then run your code to see if it works and talk to someone if it doesn't."
   ]
  },
  {
   "cell_type": "code",
   "execution_count": 0,
   "metadata": {
    "collapsed": false
   },
   "outputs": [
   ],
   "source": [
    "# Define our cipher alphabet as all capital English letters\n",
    "\n",
    "alph = 'ABCDEFGHIJKLMNOPQRSTUVWXYZ'\n",
    "\n",
    "# Begin with an empty string of plaintext\n",
    "\n",
    "plaintext = ''\n",
    "\n",
    "# Input our ciphertext letter and key\n",
    "\n",
    "ciphertext_letter = 'D'\n",
    "key = 20\n",
    "\n",
    "# Your code goes below\n",
    "\n"
   ]
  },
  {
   "cell_type": "markdown",
   "metadata": {
    "collapsed": false
   },
   "source": [
    "Great! If your code worked, you should end up with the number $3$. Below, copy-paste your line of code from above after the equals sign in order to assign this $3$ to the variable `ciphertext_number`."
   ]
  },
  {
   "cell_type": "code",
   "execution_count": 0,
   "metadata": {
    "collapsed": false
   },
   "outputs": [
   ],
   "source": [
    "# (1.1) This step converts a ciphertext letter to a ciphertext number and stores the number\n",
    "\n",
    "ciphertext_number = "
   ]
  },
  {
   "cell_type": "markdown",
   "metadata": {
    "collapsed": false
   },
   "source": [
    "Now, what do we want to do to this number in order to decrypt it? In words (not Python code), describe this step in the box below. "
   ]
  },
  {
   "cell_type": "markdown",
   "metadata": {
    "collapsed": false
   },
   "source": [
   ]
  },
  {
   "cell_type": "markdown",
   "metadata": {
    "collapsed": false
   },
   "source": [
    "### Undoing step $2$\n",
    "\n",
    "We now want to undo step $2$ of the process above. Step $2$ took our plaintext number and added the key, mod $26$, to get our ciphertext number.\n",
    "\n",
    "Now, we're starting with a ciphertext number and want to go back to a plaintext number. Below, I've recopied the code for step $2$ of the encryption process. Alter the code in order to make it *decrypt* instead of *encrypt*. **Hint**: take the modular arithmetic equation we used to decrypt shift ciphers in class, $P\\equiv C-k\\mod{26}$, and replace $P$ with `plaintext_number`, $C$ with `ciphertext_number`, and $k$ with `key`."
   ]
  },
  {
   "cell_type": "code",
   "execution_count": 0,
   "metadata": {
    "collapsed": false
   },
   "outputs": [
   ],
   "source": [
    "# (1.2) Once you edit the code below, it should decrypt instead of encrypt.\n",
    "\n",
    "# 2. To get a plaintext number, shift the ciphertext number down by the key, looping around so that, for example, C is replaced with Z when the key is 3. In other words, we're taking the ciphertext number minus the key, mod 26, to get the plaintext number. \n",
    "ciphertext_number = Mod(plaintext_number + key, 26)"
   ]
  },
  {
   "cell_type": "markdown",
   "metadata": {
    "collapsed": false
   },
   "source": [
    "### Undoing step $1$\n",
    "\n",
    "Great! We've undone steps $3$ and $2$; now to undo step $1$. When we were encrypting messages, step $1$ was to convert a plaintext letter to a plaintext number. However, when decrypting and after undoing steps $3$ and $2$, we end up with a plaintext *number*. How do we convert it to a plaintext letter? Below, write the code to convert the variable `plaintext_number` from a number to a letter. **Hint**: you're using either `alph` or `alph.find`."
   ]
  },
  {
   "cell_type": "code",
   "execution_count": 0,
   "metadata": {
    "collapsed": false
   },
   "outputs": [
   ],
   "source": [
   ]
  },
  {
   "cell_type": "markdown",
   "metadata": {
    "collapsed": false
   },
   "source": [
    "Now, just as before, we want to assign our new plaintext letter to the variable `plaintext_letter`. In order to do so, copy-paste your code from the box above after the equals sign below."
   ]
  },
  {
   "cell_type": "code",
   "execution_count": 0,
   "metadata": {
    "collapsed": false
   },
   "outputs": [
   ],
   "source": [
    "# (1.3) The code below will convert a plaintext number to a plaintext letter.\n",
    "\n",
    "plaintext_letter = "
   ]
  },
  {
   "cell_type": "markdown",
   "metadata": {
    "collapsed": false
   },
   "source": [
    "### Secret extra step: appending our letter to the output plaintext\n",
    "\n",
    "We're not quite done yet! Just like we appended our output ciphertext letters to the output ciphertext in step 4 of the encryption process, we have to append our output *plain*text letters to the output *plain*text in step 4 of the *de*cryption process.\n",
    "\n",
    "The code below was used in the last module to append the variable `ciphertext_letter` to the variable `ciphertext`. Below, edit the code so that it appends the variable `plaintext_letter` to the variable `plaintext` instead."
   ]
  },
  {
   "cell_type": "code",
   "execution_count": 0,
   "metadata": {
    "collapsed": false
   },
   "outputs": [
   ],
   "source": [
    "# (1.4) Edit this code so that it appends plaintext_letter to plaintext\n",
    "\n",
    "ciphertext += ciphertext_letter"
   ]
  },
  {
   "cell_type": "markdown",
   "metadata": {
    "collapsed": false
   },
   "source": [
    "### Putting it all together\n",
    "\n",
    "Awesome! The code we've written so far takes the ciphertext letter 'D', assigns it to the variable `ciphertext_letter`, and does the following:\n",
    "\n",
    "1. Converts the ciphertext letter to a ciphertext number and stores this number in the variable `ciphertext_number`.\n",
    "2. Subtracts the key from the ciphertext number and stores the result in the variable `plaintext_number`.\n",
    "3. Converts the plaintext number to a plaintext letter and stores this letter in the variable `plaintext_letter`.\n",
    "4. Appends the `plaintext_letter` to the output `plaintext`.\n",
    "\n",
    "In the code chunk below, copy the lines of code you wrote marked (1.1), (1.2), (1.3), and (1.4) all in order. This code contains the whole decryption process for a single ciphertext letter!"
   ]
  },
  {
   "cell_type": "code",
   "execution_count": 0,
   "metadata": {
    "collapsed": false
   },
   "outputs": [
   ],
   "source": [
    "# (1.5) \n",
    "# The decryption process for a single letter\n",
    "\n"
   ]
  },
  {
   "cell_type": "markdown",
   "metadata": {
    "collapsed": false
   },
   "source": [
    "## Decrypting whole words\n",
    "\n",
    "Great! You've managed to shift one ciphertext letter to a plaintext letter. However, in order to decrypt messages, we're going to need to shift *multiple* ciphertext letters at once. To do this, we need the magic of ``for`` loops.\n",
    "\n",
    "You've already seen ``for`` loops in Codecademy and in the previous module. Basically, the idea is that we want to repeat a task, like shifting letters, over and over again. How many times do we want to repeat the task? Well, once for every letter in our ciphertext. The code to start this ``for`` loop is\n",
    "\n",
    "``for ciphertext_letter in ciphertext:``\n",
    "\n",
    "If you type the above line of code into a code chunk and hit enter, the next line will be tabbed over. Python uses whitespace as a way of managing what's inside a `for` loop and what's not. **Everything you write that's tabbed over will be done for every single letter of your ciphertext.** \n",
    "\n",
    "So what should we write tabbed over inside this `for` loop? I'm glad you asked. Once you've reached this point, try to help others around you until we're all at this point, and we'll talk as a class about what goes inside our `for` loop."
   ]
  },
  {
   "cell_type": "markdown",
   "metadata": {
    "collapsed": false
   },
   "source": [
    "### Let's do it!\n",
    "\n",
    "Are you back? Great! Let's try to write a `for` loop that decrypts the entire message 'DOFCOMWUYMUL', which was encrypted with the key $k=20$. \n",
    "\n",
    "Our goal is to replace the letter 'D' in our code above with a *variable*. Like in algebra, variables can take on many values. So far, we've already seen the variables ``alph``, ``plaintext``, ``key``, and ``ciphertext``. They are placeholders for letters or numbers that can be assigned values, just like the equation $x=3$ assigns the variable $x$ the value $3$.\n",
    "\n",
    "Below, I've started you off with the beginning of a `for` loop and the code we used to shift 'D' back by $20$. Edit that code by deleting all references to 'D' and replacing them with the variable ``letter``. Then the `for` loop will cycle through all the letters in the message 'DOFCOMWUYMUL' and shift *all* of them back by $20$. Then click Run on your edited chunk and see what happens. Once you click Run and observe the results, read the text below the chunk."
   ]
  },
  {
   "cell_type": "code",
   "execution_count": 0,
   "metadata": {
    "collapsed": false
   },
   "outputs": [
   ],
   "source": [
    "# (1.6) Writing a for loop to decrypt 'DOFCOMWUYMUL'\n",
    "\n",
    "# Define our cipher alphabet as all capital English letters\n",
    "\n",
    "alph = 'ABCDEFGHIJKLMNOPQRSTUVWXYZ'\n",
    "\n",
    "# Start with an empty string of plaintext\n",
    "\n",
    "plaintext = ''\n",
    "\n",
    "# Input our ciphertext and key\n",
    "\n",
    "ciphertext = 'DOFCOMWUYMUL'\n",
    "key = 20\n",
    "\n",
    "# Here goes the for loop for the letter 'D' and key 20! Edit the loop to remove all references to 'D', replacing them with the variable ciphertext_letter.\n",
    "\n",
    "for ciphertext_letter in ciphertext:\n",
    "    ciphertext_number = alph.find('D')\n",
    "    plaintext_number = Mod(ciphertext_number - 20, 26)\n",
    "    plaintext_letter = alph[plaintext_number]\n",
    "    plaintext += plaintext_letter"
   ]
  },
  {
   "cell_type": "markdown",
   "metadata": {
    "collapsed": false
   },
   "source": [
    "### Time to print!"
   ]
  },
  {
   "cell_type": "markdown",
   "metadata": {
    "collapsed": false
   },
   "source": [
    "If you edited and ran the code above correctly, *nothing should have happened*. Why not? Well, we didn't actually tell Python to *show* us the ciphertext.\n",
    "\n",
    "This might sound silly. Computer programs and programming languages are very smart in some ways and very dumb in others. To a human, it'd be obvious that, if we asked them to convert plaintext to ciphertext, they should actually tell us what the ciphertext is. To Python, not so much. We have to explicitly ask using the `print` command.\n",
    "\n",
    "The `print` command doesn't actually send anything to a printer. It just prints words, numbers, or letters on the screen.\n",
    "\n",
    "In our case, we want to print the plaintext, which we've conveniently assigned to the variable `plaintext`. In the code box below, underneath the existing code, copy-paste your code from chunk (1.6) above. Then, outside the tabbed section, write the command to print the variable `plaintext`. Then run the chunk and see what happens. You should see the ciphertext resulting from decrypting the word 'DOFCOMWUYMUL' with the key $20$."
   ]
  },
  {
   "cell_type": "code",
   "execution_count": 0,
   "metadata": {
    "collapsed": false
   },
   "outputs": [
   ],
   "source": [
    "# (1.7) Fixing our for loop to print the plaintext\n",
    "# Copy-paste your code from (1.6) below, then add a print command *outside* the tabbed area.\n",
    "\n"
   ]
  },
  {
   "cell_type": "markdown",
   "metadata": {
    "collapsed": false
   },
   "source": [
    "## Creating a Function\n",
    "\n",
    "Now, when shift ciphers are used in the real world, the ciphertext is almost certain not to be 'DOFCOMWUYMUL', and the key may not be $20$. Instead of this specific ciphertext and key, we want to allow ourselves the freedom to *define* whatever ciphertext and key we want. In other words, we want ``ciphertext`` and ``key`` to be *inputs* to a function.\n",
    "\n",
    "We can almost exactly recycle our code from above, where we decrypted 'DOFCOMWUYMUL' with a shift of $20$. However, we'll need to replace any references to specific ciphertext with the variable `ciphertext` and any references to specific numerical keys with the variable `key`.\n",
    "\n",
    "In the code box below, copy-paste your code from (1.7). Then delete all lines that reference the ciphertext 'DOFCOMWUYMUL', leaving only references to the variable `ciphertext`, and all references to the number $20$, leaving only references to the variable `key`. Finally, try running the chunk. Once you've run the chunk and observed what happens, read the text below."
   ]
  },
  {
   "cell_type": "code",
   "execution_count": 0,
   "metadata": {
    "collapsed": false
   },
   "outputs": [
   ],
   "source": [
    "# (1.8) The meat of our function\n",
    "# Below, copy-paste your code from (1.7), removing all lines that reference the ciphertext 'DOFCOMWUYMUL' or the key 20.\n",
    "\n"
   ]
  },
  {
   "cell_type": "markdown",
   "metadata": {
    "collapsed": false
   },
   "source": [
    "The chunk above should have again spit out the plaintext corresponding to the ciphertext 'DOFCOMWUYMUL'. This is because we've already told Python in the previous section that `ciphertext` is a placeholder for the text 'DOFCOMWUYMUL' and `key` is a placeholder for the number $20$. What if we want to decrypt a different message using a different key? Do we have to write all this code out again, changing the values of the variables `ciphertext` and `key`? Thankfully, no!\n",
    "\n",
    "To save us from having to write out all this code anytime we want to decrypt a message with a shift cipher, we'll wrap everything up in a **function**. Then, if we want to decrypt the message 'AJTQETA' using the key $7$, all we'll have to write is\n",
    "\n",
    "``ShiftDecrypt('AJTQETA',7)``\n",
    "\n",
    "Just like a mathematical function like $f(x)=3x+2$, Python functions have *inputs* or *independent variables* (like $x$ in the example $f(x)=3x+2$) and *outputs* or *dependent variables* (like the $3x+2$). For every input $x$ (for example $x=3$), the function outputs $3$ times that input plus $2$. So for the input $3$, the function $f(x)$ spits out $11$.\n",
    "\n",
    "The function we're dealing with doesn't just have one input, though, it has two: the ciphertext and the key. One of those inputs (the ciphertext) is a word and the other is a number.\n",
    "\n",
    "Remember from Codecademy that, to start defining a Python function, you have to start with a `def` command. I'll set the `def` command up for you below; try copy-pasting your code from chunk (1.8) above underneath the `def` command. Remember that everything the function does has to be tabbed over once, and everything in your `for` loop has to be tabbed over once more, so the stuff inside your `for` loop is *double*-tabbed! I\"ll start you off by defining the alphabet and the empty string called `plaintext` like we did above.\n",
    "\n",
    "When you've copy-pasted your code in the chunk labeled (1.9) below, run the code chunk."
   ]
  },
  {
   "cell_type": "code",
   "execution_count": 0,
   "metadata": {
    "collapsed": false
   },
   "outputs": [
   ],
   "source": [
    "# (1.9) Finally defining our function!\n",
    "\n",
    "def ShiftDecrypt(ciphertext, key):\n",
    "    alph = 'ABCDEFGHIJKLMNOPQRSTUVWXYZ'\n",
    "    plaintext = ''\n",
    "    # Copy-paste your code from (1.8) below, then run the chunk.\n",
    "    "
   ]
  },
  {
   "cell_type": "markdown",
   "metadata": {
    "collapsed": false
   },
   "source": [
    "Now, mimic my code in the 'AJTQETA' example above and use your function to decrypt the word 'HSPTVUF' with a shift of $7$. Yes, it was a lot of work to write the function, but now that we have the function, decryption is so much easier than it would be by hand!"
   ]
  },
  {
   "cell_type": "code",
   "execution_count": 0,
   "metadata": {
    "collapsed": false
   },
   "outputs": [
   ],
   "source": [
   ]
  },
  {
   "cell_type": "markdown",
   "metadata": {
    "collapsed": false
   },
   "source": [
    "## Exercises\n",
    "\n",
    "Now that you have a function, try answering the following:\n",
    "\n",
    "1. What do you think happens if you try to *decrypt* use a key that's larger than your alphabet? Try decrypting the message 'QPUBUPFT' with a key of 27 and see! Is the result what you expected? Can you do some modular arithmetic to show why this is the case?"
   ]
  },
  {
   "cell_type": "code",
   "execution_count": 0,
   "metadata": {
    "collapsed": false
   },
   "outputs": [
   ],
   "source": [
    "# Type your code to decrypt \"QPUBUPFT\" with a key of 27 below\n",
    "\n"
   ]
  },
  {
   "cell_type": "markdown",
   "metadata": {
    "collapsed": false
   },
   "source": [
    "Type your answer here."
   ]
  },
  {
   "cell_type": "markdown",
   "metadata": {
    "collapsed": false
   },
   "source": [
    "2. Copy and paste the function above (changing its name) and try to change the code so that it decrypts using *the same* larger alphabet you used in the ShiftEncrypt module. Be sure to adjust the modulus accordingly!"
   ]
  },
  {
   "cell_type": "code",
   "execution_count": 0,
   "metadata": {
    "collapsed": false
   },
   "outputs": [
   ],
   "source": [
    "# (1.10) \n",
    "# Writing an extended ShiftEncrypt function (you could call it ShiftEncryptX if you want)\n",
    "# Below, copy-paste your function, changing the function name and the alphabet.\n",
    "# Make sure your new cipher alphabet matches the one you used in Exercise 2 of the ShiftEncrypt module.\n",
    "\n"
   ]
  },
  {
   "cell_type": "markdown",
   "metadata": {
    "collapsed": false
   },
   "source": [
    "3. Finally, test your new function by first using your beefed-up `ShiftEncrypt` function from Exercise 2 of that assignment to encrypt a message. Then, in the box below, input the encrypted message and run your beefed-up `ShiftDecrypt` function from Exercise 2 above to decrypt it. Did you get the plaintext you started with? Why or why not?"
   ]
  },
  {
   "cell_type": "code",
   "execution_count": 0,
   "metadata": {
    "collapsed": false
   },
   "outputs": [
   ],
   "source": [
    "# Write the code to decrypt your encrypted message here."
   ]
  },
  {
   "cell_type": "markdown",
   "metadata": {
    "collapsed": false
   },
   "source": [
    "Here, describe whether you got the plaintext you started with and why or why not.\n",
    "\n"
   ]
  }
 ],
 "metadata": {
  "kernelspec": {
   "display_name": "SageMath 9.1",
   "language": "sagemath",
   "metadata": {
    "cocalc": {
     "description": "Open-source mathematical software system",
     "priority": 1,
     "url": "https://www.sagemath.org/"
    }
   },
   "name": "sage-9.1",
   "resource_dir": "/ext/jupyter/kernels/sage-9.1"
  },
  "language_info": {
   "codemirror_mode": {
    "name": "ipython",
    "version": 3
   },
   "file_extension": ".py",
   "mimetype": "text/x-python",
   "name": "python",
   "nbconvert_exporter": "python",
   "pygments_lexer": "ipython3",
   "version": "3.7.3"
  }
 },
 "nbformat": 4,
 "nbformat_minor": 4
}
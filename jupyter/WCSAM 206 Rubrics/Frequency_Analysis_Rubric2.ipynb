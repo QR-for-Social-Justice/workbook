{
 "cells": [
  {
   "cell_type": "markdown",
   "metadata": {
    "collapsed": false
   },
   "source": [
    "## Python Module: Frequency Analysis\n",
    "\n",
    "**Frequency analysis** is the process of counting the number of occurrences of ciphertext letters in order to make a guess about what plaintext letters they came from. Frequency analysis only works for *monoalphabetic substitution ciphers*, in which letters are always enciphered the same way (for example, every 'e' in the plaintext is enciphered as a 'T'). Frequency analysis breaks down (though it can be modified to work) in the case of *polyalphabetic substitution ciphers*, in which different occurences of a plaintext letter could be enciphered differently. (For example, one 'e' may be enciphered as a 'T' and another as an 'R'.)\n",
    "\n",
    "For example: For the text \"TEST\" the frequency of 'E' is 1, 'S' is 1 and 'T' is 2. The input to the function will be a ciphertext message that only contains the capital letters A-Z. As output, we will print a list of the frequency for each of the letters A-Z.\n",
    "\n",
    "To begin, let's look at the code for a frequency count of the text \"TEST\".\n",
    "\n",
    "We'll start with an empty `count_list`, then initialize the count at zero for each of the $26$ capital English letters. The following code chunk will (once you fix it) initialize the count of each letter as $0$. In other words, the code chunk will add $26$ zeroes to our list of letter counts. \n",
    "\n",
    "It's much easier to use a `for` loop here rather than adding 26 zeroes to our list by hand. In other words, we want to tell our computer to \"append\" 0 onto the end of our `count_list` 26 times.\n",
    "\n",
    "Why can't we just use `+=` for this? We can, but Python is a bit finicky about how it treats lists of numbers. If we wrote `count_list += 0`, we'd get an error (try it below if you'd like). This is because `+=` can only add *lists* to other lists, while `.append` can add numbers.\n",
    "\n",
    "Since our `count_list` is made up of numbers, we'll have to use the command `count_list.append(0)`. To append any number `n` to a list (call it my_list), the same idea works: we'd write `my_list.append(n)`.\n",
    "\n",
    "Do you remember how to specify the range of numbers between 0 and 25, including 0 and 25? **Edit the chunk of code below to add the correct numerical range in between the parentheses in the line \"`for i in range():`\"**"
   ]
  },
  {
   "cell_type": "code",
   "execution_count": 0,
   "metadata": {
    "collapsed": false,
    "scrolled": true
   },
   "outputs": [
   ],
   "source": [
    "# 1.1\n",
    "alphabet = ['A','B','C','D','E','F','G','H','I','J','K','L','M',\n",
    "           'N','O','P','Q','R','S','T','U','V','W','X','Y','Z']\n",
    "message = \"TEST\"\n",
    "\n",
    "count_list = []\n",
    "\n",
    "## Edit the line of code below ##\n",
    "for i in range(0,26):\n",
    "    count_list.append(0)"
   ]
  },
  {
   "cell_type": "markdown",
   "metadata": {
    "collapsed": false
   },
   "source": [
    "For technical reasons, we need to convert our message string to a list of letters (so we can count letters without worrying about spaces).\n",
    "We do this by going through our message letter by letter and adding each letter to our list.\n",
    "This can be done using the command `.append`, just as we used for numbers above.\n",
    "\n",
    "Whenever you have a list in Python, you can add numbers or strings to the end of the list by writing `listname.append(object)`, replacing `listname` with the name of your list and `object` with the string or number you'd like to add to your list.\n",
    "\n",
    "If our list were called `cool_list`, the code to do this would be as follows:"
   ]
  },
  {
   "cell_type": "code",
   "execution_count": 12,
   "metadata": {
    "collapsed": false
   },
   "outputs": [
   ],
   "source": [
    "# start with a blank list\n",
    "cool_list = []\n",
    "\n",
    "# add every letter in the message to the list\n",
    "for letter in message:\n",
    "    cool_list.append(letter)"
   ]
  },
  {
   "cell_type": "markdown",
   "metadata": {
    "collapsed": false
   },
   "source": [
    "Below, write the code to begin with a blank list called `letter_list` (the underscore is essential because Python can't read spaces in variable names) and append all the letters in our message to `letter_list`. (Hint: copy the code chunk above and just change the name of the list.)"
   ]
  },
  {
   "cell_type": "code",
   "execution_count": 0,
   "metadata": {
    "collapsed": false
   },
   "outputs": [
   ],
   "source": [
    "# 1.2\n",
    "## Write your code here ##\n",
    "letter_list = []\n",
    "# add every letter in the message to the list\n",
    "for letter in message:\n",
    "    letter_list.append(letter)"
   ]
  },
  {
   "cell_type": "markdown",
   "metadata": {
    "collapsed": false
   },
   "source": [
    "Now, we need to go through `count_list` and add each occurrence of each letter. For example, in the word 'TEST', we want to start at the first T in the message and add $1$ to the entry of `count_list` corresponding to the letter T. Since $T = 19$, we want to add 1 to the 19th entry of `count_list` every time we see a T.\n",
    "\n",
    "The code to add 1 to the 19th entry of `count_list` is:\n",
    "\n",
    "```\n",
    "count_list[19] += 1\n",
    "```\n",
    "\n",
    "Here, \"+=\" denotes that we're replacing the 19th entry of `count_list` with the 19th entry of `count_list` plus 1. (When operating on single numbers and not lists, `+=` works great!)\n",
    "\n",
    "**In place of the line \"`## write your code below ##`\", copy and paste the code to replace the $i$th entry of `count_list` with the $i$th entry plus 1.** Hint: copy-paste the code above, but change 19 to the variable `i`."
   ]
  },
  {
   "cell_type": "code",
   "execution_count": 0,
   "metadata": {
    "collapsed": false
   },
   "outputs": [
   ],
   "source": [
    "# 1.3\n",
    "# counts occurences of each letter\n",
    "for letter in letter_list:\n",
    "    for i in range(0,26):\n",
    "        if letter == alphabet[i]:\n",
    "            count_list[i] += 1\n",
    "            "
   ]
  },
  {
   "cell_type": "markdown",
   "metadata": {
    "collapsed": false
   },
   "source": [
    "The code above spits out a list of 26 numbers, where each number is equal to the number of occurrences of the corresponding letter. For example, if we run the above code on the message `'TEST'`, we'd get the list\n",
    "\n",
    "```\n",
    "[0,0,0,0,1,0,0,0,0,0,0,0,0,0,0,0,0,0,1,2,0,0,0,0,0,0]\n",
    "```\n",
    "\n",
    "where the 1s in the 4th and 17th spots in the list (remember, Python starts counting at 0) reflect the counts of the letters $E = 4$ and $S = 17$, and the 2 in the $19$th spot reflects the count of $T = 19$.\n",
    "\n",
    "Do you see any problems? \n",
    "\n",
    "It's annoying to have to count how far out in the list we are in order to determine what letter's frequency we're looking at. It would be ideal if each spot in the list was \"labeled\" with the corresponding letter.\n",
    "\n",
    "The way we'll do this is by *merging* our `alphabet` list with `count_list`. This takes the first entries in each list, in this case `'A'` and `0`, and merges them together into the entry `['A',0]`.\n",
    "\n",
    "Similarly, we'll get the entries \n",
    "\n",
    "```\n",
    "['B',0], ['C',0], ['D',0], ['E',1],\n",
    "```\n",
    "\n",
    "etc.\n",
    "\n",
    "The Python command to merge two lists together is `zip(list1, list2)` (think of literally taking the two lists with a zipper between them and zipping up the zipper to join them side by side). **Below, write the command to merge the lists `alphabet` and `count_list` together, then name your \"zipped\" list `letter_freq`**."
   ]
  },
  {
   "cell_type": "code",
   "execution_count": 0,
   "metadata": {
    "collapsed": false
   },
   "outputs": [
   ],
   "source": [
    "# 1.4\n",
    "# pair each letter of the alphabet with its frequency in a new list\n",
    "letter_freq = zip(alphabet, count_list)\n",
    "## Write your code here ##"
   ]
  },
  {
   "cell_type": "markdown",
   "metadata": {
    "collapsed": false
   },
   "source": [
    "Lastly, it'd be useful to sort our list from most frequent to least frequent in order to use it to break codes. Then we could immediately tell what the most common ciphertext letter was and guess it came from plaintext e.\n",
    "\n",
    "The way Python sorts lists is with the command \n",
    "\n",
    "```\n",
    "{name of new sorted list} = sorted({list to sort}, key = lambda {name of column to sort by}: {name of column to sort by}[number of column to sort by], reverse = True)\n",
    "```\n",
    "\n",
    "Here, I use curly brackets `{}` to denote where you fill in the blanks. There should be no curly brackets in your code.\n",
    "\n",
    "In this case, we want to sort the list `letter_freq` according to the values in the column `count_list` (which is numbered as the first column in the list, since `alphabet` is considered the zeroth column). \n",
    "\n",
    "The `reverse = True` line means that letters with higher frequencies will come first in the list instead of last, which is the default option.\n",
    "\n",
    "Below, write the code to perform this sort, name the new sorted list `sorted_letter_freq`, then print the list `sorted_letter_freq`."
   ]
  },
  {
   "cell_type": "code",
   "execution_count": 0,
   "metadata": {
    "collapsed": false
   },
   "outputs": [
   ],
   "source": [
    "# 1.5\n",
    "\n",
    "# sort by decreasing order of relative frequency and print the frequencies together with the corresponding ciphertext letters\n",
    "\n",
    "sorted_letter_freq = sorted(letter_freq, key = lambda count_list: count_list[1], reverse = True)\n",
    "print sorted_letter_freq\n",
    "\n",
    "## write your code here ##"
   ]
  },
  {
   "cell_type": "markdown",
   "metadata": {
    "collapsed": false
   },
   "source": [
    "Now, let's bring it all together. **Below, copy-paste all your code from (1.1)-(1.5) above in order and run it in order to perform a frequency count on the message `'TEST'`.**"
   ]
  },
  {
   "cell_type": "code",
   "execution_count": 1,
   "metadata": {
    "collapsed": false
   },
   "outputs": [
    {
     "name": "stdout",
     "output_type": "stream",
     "text": [
      "[('T', 2), ('E', 1), ('S', 1), ('A', 0), ('B', 0), ('C', 0), ('D', 0), ('F', 0), ('G', 0), ('H', 0), ('I', 0), ('J', 0), ('K', 0), ('L', 0), ('M', 0), ('N', 0), ('O', 0), ('P', 0), ('Q', 0), ('R', 0), ('U', 0), ('V', 0), ('W', 0), ('X', 0), ('Y', 0), ('Z', 0)]\n"
     ]
    }
   ],
   "source": [
    "# 1.1\n",
    "alphabet = ['A','B','C','D','E','F','G','H','I','J','K','L','M',\n",
    "           'N','O','P','Q','R','S','T','U','V','W','X','Y','Z']\n",
    "message = \"TEST\"\n",
    "\n",
    "count_list = []\n",
    "\n",
    "## Edit the line of code below ##\n",
    "for i in range(0,26):\n",
    "    count_list.append(0)\n",
    "\n",
    "# 1.2\n",
    "## Write your code here ##\n",
    "letter_list = []\n",
    "# add every letter in the message to the list\n",
    "for letter in message:\n",
    "    letter_list.append(letter)\n",
    "\n",
    "# 1.3\n",
    "# counts occurences of each letter\n",
    "for letter in letter_list:\n",
    "    for i in range(0,26):\n",
    "        if letter == alphabet[i]:\n",
    "            count_list[i] += 1\n",
    "\n",
    "# 1.4\n",
    "# pair each letter of the alphabet with its frequency in a new list\n",
    "letter_freq = zip(alphabet, count_list)\n",
    "## Write your code here ##\n",
    "\n",
    "# 1.5\n",
    "\n",
    "# sort by decreasing order of relative frequency and print the frequencies together with the corresponding ciphertext letters\n",
    "\n",
    "sorted_letter_freq = sorted(letter_freq, key = lambda count_list: count_list[1], reverse = True)\n",
    "print sorted_letter_freq"
   ]
  },
  {
   "cell_type": "markdown",
   "metadata": {
    "collapsed": false
   },
   "source": [
    "Finally, we don't just want code to perform frequency analysis on one message; we want to be able to input any message and have our code perform frequency analysis on that message.\n",
    "\n",
    "As usual, we'll define a *function* that takes as input a `message` and outputs the list of letter frequencies in the message, sorted from greatest to least.\n",
    "\n",
    "**Copy-paste your code from (1.6) above, changing your code as necessary, in order to define such a function `freq_analysis` below. Remember to add a line that `print`s `sorted_letter_freq`, the list of sorted letter frequencies, at the end of your function.**"
   ]
  },
  {
   "cell_type": "code",
   "execution_count": 0,
   "metadata": {
    "collapsed": false
   },
   "outputs": [
   ],
   "source": [
    "def freq_analysis(message):\n",
    "    # 1.1\n",
    "    alphabet = ['A','B','C','D','E','F','G','H','I','J','K','L','M',\n",
    "           'N','O','P','Q','R','S','T','U','V','W','X','Y','Z']\n",
    "    count_list = []\n",
    "\n",
    "    ## Edit the line of code below ##\n",
    "    for i in range(0,26):\n",
    "        count_list.append(0)\n",
    "\n",
    "    # 1.2\n",
    "    ## Write your code here ##\n",
    "    letter_list = []\n",
    "    # add every letter in the message to the list\n",
    "    for letter in message:\n",
    "        letter_list.append(letter)\n",
    "\n",
    "# 1.3\n",
    "# counts occurences of each letter\n",
    "    for letter in letter_list:\n",
    "        for i in range(0,26):\n",
    "            if letter == alphabet[i]:\n",
    "                count_list[i] += 1\n",
    "\n",
    "# 1.4\n",
    "# pair each letter of the alphabet with its frequency in a new list\n",
    "    letter_freq = zip(alphabet, count_list)\n",
    "## Write your code here ##\n",
    "\n",
    "# 1.5\n",
    "\n",
    "# sort by decreasing order of relative frequency and print the frequencies together with the corresponding ciphertext letters\n",
    "\n",
    "sorted_letter_freq = sorted(letter_freq, key = lambda count_list: count_list[1], reverse = True)\n",
    "print sorted_letter_freq"
   ]
  },
  {
   "cell_type": "markdown",
   "metadata": {
    "collapsed": false
   },
   "source": [
    "**Once you think you have a working function, test it below by performing frequency analysis on three messages of your choice.** \n",
    "\n",
    "For example, the code to do a frequency analysis on the message \"CABBAGE\" would be `freq_analysis(\"CABBAGE\")`."
   ]
  },
  {
   "cell_type": "code",
   "execution_count": 0,
   "metadata": {
    "collapsed": false
   },
   "outputs": [
   ],
   "source": [
    "#Tests\n",
    "\n",
    "#1.\n",
    "## write your code here ##"
   ]
  },
  {
   "cell_type": "code",
   "execution_count": 0,
   "metadata": {
    "collapsed": false
   },
   "outputs": [
   ],
   "source": [
    "#2.\n",
    "## write your code here ##"
   ]
  },
  {
   "cell_type": "code",
   "execution_count": 0,
   "metadata": {
    "collapsed": false
   },
   "outputs": [
   ],
   "source": [
    "#3.\n",
    "## write your code here ##"
   ]
  }
 ],
 "metadata": {
  "kernelspec": {
   "display_name": "SageMath 9.1",
   "language": "sagemath",
   "metadata": {
    "cocalc": {
     "description": "Open-source mathematical software system",
     "priority": 1,
     "url": "https://www.sagemath.org/"
    }
   },
   "name": "sage-9.1",
   "resource_dir": "/ext/jupyter/kernels/sage-9.1"
  },
  "language_info": {
   "codemirror_mode": {
    "name": "ipython",
    "version": 3
   },
   "file_extension": ".py",
   "mimetype": "text/x-python",
   "name": "python",
   "nbconvert_exporter": "python",
   "pygments_lexer": "ipython3",
   "version": "3.7.3"
  }
 },
 "nbformat": 4,
 "nbformat_minor": 4
}
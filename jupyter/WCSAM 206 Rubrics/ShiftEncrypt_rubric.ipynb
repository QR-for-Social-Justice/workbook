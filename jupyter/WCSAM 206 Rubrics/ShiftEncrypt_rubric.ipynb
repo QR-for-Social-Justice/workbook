{
 "cells": [
  {
   "cell_type": "markdown",
   "metadata": {
    "collapsed": false
   },
   "source": [
    "# Rubric:\n",
    "\n",
    "- 50 points: `ShiftEncrypt` function encrypts `stargazer` as `JKRIXRQVI`\n",
    "- 35 points: Student writes a working function in Exercise 2 that correctly encrypts their chosen plaintext in Exercise 3.\n",
    "- 15 points: Student justifies why a shift of 27 is equivalent to a shift of 1 in a 26-letter alphabet in Exercise 1."
   ]
  },
  {
   "cell_type": "markdown",
   "metadata": {
    "collapsed": false
   },
   "source": [
    "# Shift Ciphers in Sage\n",
    "\n",
    "## Welcome!\n",
    "\n",
    "Welcome to your first Sage module for the course! Sage is a bunch of math-centric enhancements to the Python programming language. \n",
    "\n",
    "Does that mean you're expected to learn how to program in this course? Not at all! While you're welcome to play around and try to extend your code if you have prior programming experience (come talk to me about your plans if this is the case), most of what you'll be doing involves \"thoughtful copy-pasting\" of existing code.\n",
    "\n",
    "What is \"thoughtful copy/paste\"? When coding is new to people, it's almost impossible to type a line of code that will run without error. Why not find some code that you know will execute and modify it slightly? It's in that modification that one needs to be thoughtful. What do you need to change and why? The goal for this course is that you'll come out with a little more knowledge of how to tweak a single bit of code to suit your needs.\n",
    "\n",
    "Does this sound like cheating? It isn't a cop-out. It's helping everyone get to the point where Sage makes sense and will give results. In fact, you have some programming background and are interested in doing more with R, there are countless online resources you can visit to augment your learning. (The rest of the free Codecademy Python course is a good start.)\n",
    "\n",
    "## What's the point?\n",
    "\n",
    "So why are we using programming in a cryptography course? Frankly, because no one does cryptography anymore with pen and paper. While this may have been possible in Julius Caesar's time, nowadays cryptography is conducted almost exclusively on computers, by computer programs. In fact, by the end of this course, we'll be doing cryptography this is *literally impossible* to do by hand. This type of cryptography (RSA encryption) keeps credit card info safe online and is one of the most commonly used computer programs today.\n",
    "\n",
    "Even for older encryption systems like shift ciphers, it's still an enormous time-saver to use a computer to encrypt our messages. My goal in this course is to give you more time to focus on concepts than on the arithmetic and simple computations you need to encrypt shift ciphers. Once you understand the basics of how a cipher works, shifting repetitive tasks to a computer helps you focus on the broader concepts underlying each type of encryption.\n",
    "\n",
    "## Setting Up\n",
    "\n",
    "To this end, our goal is to play around with a small program that will encrypt text using a shift cipher. \n",
    "\n",
    "We want to be able to input any plaintext we want and the desired shift. The program should then spit out the ciphertext.\n",
    "\n",
    "First, we'll do an example, encoding the message \"MYSECRET\" using a shift of 3, like the classical Caesar cipher. You'll then use this example to define a function."
   ]
  },
  {
   "cell_type": "code",
   "execution_count": 2,
   "metadata": {
    "collapsed": false
   },
   "outputs": [
   ],
   "source": [
    "# Don't change any of the lines beginning with # signs! These are \"comments\" (here used to give instructions) and don't affect what your code is doing.\n",
    "# Don't mess with the code below; it just defines our cipher alphabet as all capital English letters. That means our ciphertext and plaintext will both be capital letters. This is a bit different from how we do things in class, but Python works differently.\n",
    "\n",
    "alph = 'ABCDEFGHIJKLMNOPQRSTUVWXYZ'"
   ]
  },
  {
   "cell_type": "markdown",
   "metadata": {
    "collapsed": false
   },
   "source": [
    "Our first step is to write the plaintext message we want to encrypt and label it with the variable ``plaintext``. After we type the line below, every time we write ``plaintext``, Python will replace it with ``'MYSECRET'``."
   ]
  },
  {
   "cell_type": "code",
   "execution_count": 3,
   "metadata": {
    "collapsed": false
   },
   "outputs": [
   ],
   "source": [
    "plaintext = 'MYSECRET'"
   ]
  },
  {
   "cell_type": "markdown",
   "metadata": {
    "collapsed": false
   },
   "source": [
    "Next, we define the key. In this case, the key is the number of letters to the right we want to shift. (Note that negative keys correspond to left shifts.) As an example, let's use the classical Caesar cipher, which has a right shift of 3 letters. From now on, whenever we type the word ``key``, Python will replace it with the number 3."
   ]
  },
  {
   "cell_type": "code",
   "execution_count": 4,
   "metadata": {
    "collapsed": false
   },
   "outputs": [
   ],
   "source": [
    "key = 3"
   ]
  },
  {
   "cell_type": "markdown",
   "metadata": {
    "collapsed": false
   },
   "source": [
    "OK, now here's the tricky part. How do we actually shift every single letter of the plaintext ``'MYSECRET'`` over by 3? \n",
    "\n",
    "We'll do it one letter at a time using a \"for loop\" (remember these from your Intro to Python on Codecademy?).\n",
    "\n",
    "For weird reasons that aren't too important, we'll start with an empty ciphertext message and use a for loop to add ciphertext letters to it, one by one.\n",
    "\n",
    "Define the variable ``ciphertext`` to be an empty string of letters. This empty string is written as ``''``, two apostrophes with nothing (our empty word) between them."
   ]
  },
  {
   "cell_type": "code",
   "execution_count": 5,
   "metadata": {
    "collapsed": false
   },
   "outputs": [
   ],
   "source": [
    "ciphertext = ''"
   ]
  },
  {
   "cell_type": "markdown",
   "metadata": {
    "collapsed": false
   },
   "source": [
    "Now, we want to go through every letter of the plaintext 'MYSECRET' and, one by one, replace these letters with ciphertext letters.\n",
    "\n",
    "In other words, for every letter in the plaintext, we want to do the following in order:\n",
    "\n",
    "1. Convert the plaintext letter to a plaintext number. Sage already has the ability to do this built-in.\n",
    "2. To get a ciphertext number, shift the plaintext number up by 3, looping around so that, for example, Z is replaced with C. In other words, we're taking the plaintext number plus $3$, mod $26$, to get the ciphertext number. \n",
    "3. Convert the ciphertext number to a ciphertext letter. \n",
    "4. Append that letter to our output ciphertext.\n",
    "\n",
    "## Shifting a Single Letter\n",
    "\n",
    "This process can be tricky to understand, so let's go through it with a single letter first. Say we want to encrypt the letter M from 'MYSECRET'. What do we need to do?\n",
    "\n",
    "1. Convert the plaintext letter to a plaintext number. \n",
    "\n",
    "Sage does this using the function ``alph.find``. Recall that when Python deals with letters, you have to put apostrophes or quotation marks (it doesn't matter which) around them so that Python realizes they're letters. (Technically, Python counts anything within apostrophes or quotes as a \"string\", which is exactly how we want it to treat letters and words.) So to find which number corresponds to the letter M, we'd write:"
   ]
  },
  {
   "cell_type": "code",
   "execution_count": 6,
   "metadata": {
    "collapsed": false
   },
   "outputs": [
    {
     "data": {
      "text/plain": [
       "12"
      ]
     },
     "execution_count": 6,
     "metadata": {
     },
     "output_type": "execute_result"
    }
   ],
   "source": [
    "alph.find('M')"
   ]
  },
  {
   "cell_type": "markdown",
   "metadata": {
    "collapsed": false
   },
   "source": [
    "Click on the code chunk above. Now, click on the button \"Run\" in the toolbar just below the \"File, Edit, View\" menu. What happens? Is this what you'd expect? Write your answer in the empty text box below this line."
   ]
  },
  {
   "cell_type": "markdown",
   "metadata": {
    "collapsed": false
   },
   "source": [
    "We would expect this because the letter M corresponds to the number 12."
   ]
  },
  {
   "cell_type": "markdown",
   "metadata": {
    "collapsed": false
   },
   "source": [
    "Let's store this plaintext number $12$ for later. In order to store answers, we'll have to give them names. Let's name this $12$, which is the plaintext number corresponding to the letter 'M'. We'll call it ``plaintext_number`` (no spaces are allowed in Python names).\n",
    "\n",
    "Recall that naming things in Python is done with the `=` sign. For example, to label the number $4$ with the word `banana`, we'd just write `banana = 4`.\n",
    "\n",
    "Later, we're going to generalize our code, so instead of just writing `plaintext_number = 12`, we'll remember that the $12$ came from the command `alph.find('M')`. Thus, we'll label `alph_find('M')` with the label `plaintext_number` as follows:"
   ]
  },
  {
   "cell_type": "code",
   "execution_count": 7,
   "metadata": {
    "collapsed": false
   },
   "outputs": [
   ],
   "source": [
    "plaintext_number = alph.find('M')"
   ]
  },
  {
   "cell_type": "markdown",
   "metadata": {
    "collapsed": false
   },
   "source": [
    "Below, write ``plaintext_number`` in the code box, click Run, and verify that Sage spits out the number $12$."
   ]
  },
  {
   "cell_type": "code",
   "execution_count": 8,
   "metadata": {
    "collapsed": false
   },
   "outputs": [
    {
     "data": {
      "text/plain": [
       "12"
      ]
     },
     "execution_count": 8,
     "metadata": {
     },
     "output_type": "execute_result"
    }
   ],
   "source": [
    "plaintext_number"
   ]
  },
  {
   "cell_type": "markdown",
   "metadata": {
    "collapsed": false
   },
   "source": [
    "Here's our next step:\n",
    "\n",
    "2. To get a ciphertext number, shift the plaintext number up by 3, looping around so that, for example, Z is replaced with C. In other words, we're taking the plaintext number plus 3, mod 26, to get the ciphertext number. \n",
    "\n",
    "Sage also has this ability built-in. For example, to do 24 plus 3 mod 26, the code is ``Mod(24+3,26)``. The first thing after the parentheses is the number we want to reduce mod 26. The second number is the modulus. This gives us a ciphertext number.\n",
    "\n",
    "Below, write the code to add $3$ to the number $12$ mod $26$. In other words, we want to do $12+3\\mod{26}$. Then run your code. If it doesn't do what you expect, talk to a group member or your instructor."
   ]
  },
  {
   "cell_type": "code",
   "execution_count": 9,
   "metadata": {
    "collapsed": false
   },
   "outputs": [
    {
     "data": {
      "text/plain": [
       "15"
      ]
     },
     "execution_count": 9,
     "metadata": {
     },
     "output_type": "execute_result"
    }
   ],
   "source": [
    "Mod(3+12,26)"
   ]
  },
  {
   "cell_type": "markdown",
   "metadata": {
    "collapsed": false
   },
   "source": [
    "Because we'll be generalizing this code in a bit, let's replace that $12$ in your code above with the variable `plaintext_number`. In the box below, copy your code from above, but delete the $12$ and write `plaintext_number` in its place. (This will be useful later.)"
   ]
  },
  {
   "cell_type": "code",
   "execution_count": 10,
   "metadata": {
    "collapsed": false
   },
   "outputs": [
    {
     "data": {
      "text/plain": [
       "15"
      ]
     },
     "execution_count": 10,
     "metadata": {
     },
     "output_type": "execute_result"
    }
   ],
   "source": [
    "Mod(3+plaintext_number,26)"
   ]
  },
  {
   "cell_type": "markdown",
   "metadata": {
    "collapsed": false
   },
   "source": [
    "Finally, just like we labeled $12$ with `plaintext_number`, we'll label the $15$ with `ciphertext_number`. Copy your code from the box above and paste it after the equals sign in the box below."
   ]
  },
  {
   "cell_type": "code",
   "execution_count": 12,
   "metadata": {
    "collapsed": false
   },
   "outputs": [
   ],
   "source": [
    "ciphertext_number = Mod(3+plaintext_number,26)"
   ]
  },
  {
   "cell_type": "markdown",
   "metadata": {
    "collapsed": false
   },
   "source": [
    "3. Convert the ciphertext number to a ciphertext letter.\n",
    "\n",
    "Thankfully, Sage also has the ability to convert numbers to letters built-in. The command is ``alph``. So, for example, to convert the number 21 to a letter, we'd write ``alph[21]``.\n",
    "\n",
    "Below, write the code to convert our ciphertext number (which we conveniently labeled `ciphertext_number`) to a letter. In other words, replace the $21$ above with the variable `ciphertext_number`. If it doesn't do what you expect, talk to a group member or your instructor.\n",
    "\n",
    "It's useful to test code like this, doing a \"sanity check\". If you ask Python to compute $4+3\\mod{26}$ and it spits out $1$, you know something probably went wrong. Then you can go back to your code and try to fix it."
   ]
  },
  {
   "cell_type": "code",
   "execution_count": 13,
   "metadata": {
    "collapsed": false
   },
   "outputs": [
    {
     "data": {
      "text/plain": [
       "'P'"
      ]
     },
     "execution_count": 13,
     "metadata": {
     },
     "output_type": "execute_result"
    }
   ],
   "source": [
    "alph[ciphertext_number]"
   ]
  },
  {
   "cell_type": "markdown",
   "metadata": {
    "collapsed": false
   },
   "source": [
    "In the box below, copy-paste your code from above, but this time label the resulting ciphertext letter with the variable `ciphertext_letter` so we can easily refer to it in the future."
   ]
  },
  {
   "cell_type": "code",
   "execution_count": 14,
   "metadata": {
    "collapsed": false
   },
   "outputs": [
   ],
   "source": [
    "ciphertext_letter = alph[ciphertext_number]"
   ]
  },
  {
   "cell_type": "markdown",
   "metadata": {
    "collapsed": false
   },
   "source": [
    "4. Append that letter to our output ciphertext.\n",
    "\n",
    "Remember that blank word we called ``ciphertext`` above? Here's where it comes in. We've converted the letter M to a number, shifted the number over by $3$, then converted the result back to a letter. If your code worked correctly, the resulting ciphertext letter should be P. (If you didn't get P, try looking over your code above again or asking someone.)\n",
    "\n",
    "We now want to store that P as the first letter of our ciphertext. Then we'll add other ciphertext letters one by one until our ciphertext is complete.\n",
    "\n",
    "In Python and Sage, adding things one by one is called *appending*. For example, the command to append the letter Q to the variable ``weirdletters`` is ``weirdletters += 'Q'``. The logic behind the `+=` is that we're first adding (`+`-ing) `Q` to the variable `weirdletters`, then we're *redefining* `weirdletters` to be itself plus `Q`. (Re)defining variables in Python is done with `=` signs. So together, we're doing both a `+` and an `=`, hence `+=`. (Don't worry, you won't be required to memorize this; you can always come back to this worksheet to remind yourself.)\n",
    "\n",
    "Below, write the code to append `ciphertext_letter` to the variable `ciphertext`. Then, in the next line, test your code by just writing the word ``ciphertext``. Sage should output `'P'` if your code works correctly."
   ]
  },
  {
   "cell_type": "code",
   "execution_count": 15,
   "metadata": {
    "collapsed": false
   },
   "outputs": [
    {
     "data": {
      "text/plain": [
       "'P'"
      ]
     },
     "execution_count": 15,
     "metadata": {
     },
     "output_type": "execute_result"
    }
   ],
   "source": [
    "ciphertext += ciphertext_letter\n",
    "ciphertext"
   ]
  },
  {
   "cell_type": "markdown",
   "metadata": {
    "collapsed": false
   },
   "source": [
    "## Shifting Whole Words\n",
    "\n",
    "Great! You've managed to shift one plaintext letter to a ciphertext letter. However, in order to encrypt messages, we're going to need to shift *multiple* plaintext letters at once. To do this, we need the magic of ``for`` loops.\n",
    "\n",
    "You've already seen ``for`` loops in Codecademy. Basically, the idea is that we want to repeat a task, like shifting letters, over and over again. How many times do we want to repeat the task? Well, once for every letter in our plaintext. The code to start this ``for`` loop is\n",
    "\n",
    "``for letter in plaintext:``"
   ]
  },
  {
   "cell_type": "markdown",
   "metadata": {
    "collapsed": false
   },
   "source": [
    "If you type the above line of code into a code chunk and hit enter, the next line will be tabbed over. Python uses whitespace as a way of managing what's inside a `for` loop and what's not. **Everything you write that's tabbed over will be done for every single letter of your plaintext.** \n",
    "\n",
    "So what should we write tabbed over inside this `for` loop? I'm glad you asked. Once you've reached this point, try to help others around you until we're all at this point, and we'll talk as a class about what goes inside our `for` loop."
   ]
  },
  {
   "cell_type": "markdown",
   "metadata": {
    "collapsed": false
   },
   "source": [
    "### Let's do it!\n",
    "\n",
    "Are you back? Great! Let's try to write a `for` loop that encrypts the entire message 'MYSECRET' with a shift of $3$. \n",
    "\n",
    "Our goal is to replace the letter 'M' in our code above with a *variable*. Like in algebra, variables can take on many values. So far, we've already seen the variables ``alph``, ``plaintext``, ``key``, and ``ciphertext``. They are placeholders for letters or numbers that can be assigned values, just like the equation $x=3$ assigns the variable $x$ the value $3$.\n",
    "\n",
    "Below, I've started you off with the beginning of a `for` loop and the code we used to shift 'M' by $3$. There's an extra line at the bottom of the for loop which you don't need to worry about for now. Edit that code by deleting all references to 'M' and replacing them with the variable ``letter``. Then the `for` loop will cycle through all the letters in the message 'MYSECRET' and shift *all* of them by $3$. Then click Run on your edited chunk and see what happens. Once you click Run and observe the results, read the text below the chunk."
   ]
  },
  {
   "cell_type": "code",
   "execution_count": 16,
   "metadata": {
    "collapsed": false
   },
   "outputs": [
   ],
   "source": [
    "plaintext = 'MYSECRET'\n",
    "ciphertext = ''\n",
    "key = 3\n",
    "\n",
    "for letter in plaintext:\n",
    "    plaintext_number = alph.find(letter)\n",
    "    ciphertext_number = Mod(plaintext_number + 3, 26)\n",
    "    ciphertext_letter = alph[ciphertext_number]\n",
    "    ciphertext += ciphertext_letter"
   ]
  },
  {
   "cell_type": "markdown",
   "metadata": {
    "collapsed": false
   },
   "source": [
    "If you edited and ran the code above correctly, *nothing should have happened*. Why not? Well, we didn't actually tell Sage to *show* us the ciphertext.\n",
    "\n",
    "This might sound silly. Computer programs and programming languages are very smart in some ways and very dumb in others. To a human, it'd be obvious that, if we asked them to convert plaintext to ciphertext, they should actually tell us what the ciphertext is. To Sage, not so much. We have to explicitly ask using the `print` command.\n",
    "\n",
    "The `print` command doesn't actually send anything to a printer. It just prints words, numbers, or letters on the screen. For example, see what happens when you run the code chunk below."
   ]
  },
  {
   "cell_type": "code",
   "execution_count": 17,
   "metadata": {
    "collapsed": false
   },
   "outputs": [
    {
     "name": "stdout",
     "output_type": "stream",
     "text": [
      "Hamsters!\n"
     ]
    }
   ],
   "source": [
    "print(\"Hamsters!\")"
   ]
  },
  {
   "cell_type": "markdown",
   "metadata": {
    "collapsed": false
   },
   "source": [
    "Seems pretty straightforward, right? Anything you put in the parentheses after `print` gets printed. Remember that if you want to print words, you have to enclose those words in apostrophes or quotation marks. However, to print a *variable*, you don't need the quotations. For example, if I had a variable `hamsters` which I set equal to $3$, then the command `print(hamsters)` should spit out the number $3$. \n",
    "\n",
    "Give it a try! In the chunk below, label the number $3$ with the variable `hamsters`. Then tell Sage to `print` the variable `hamsters`. If you don't get a $3$ out, recheck your code and/or talk to someone."
   ]
  },
  {
   "cell_type": "code",
   "execution_count": 18,
   "metadata": {
    "collapsed": false
   },
   "outputs": [
    {
     "name": "stdout",
     "output_type": "stream",
     "text": [
      "3\n"
     ]
    }
   ],
   "source": [
    "hamsters = 3\n",
    "print hamsters"
   ]
  },
  {
   "cell_type": "markdown",
   "metadata": {
    "collapsed": false
   },
   "source": [
    "Now back to shift ciphers. We want to print the ciphertext, which we've conveniently assigned to the variable `ciphertext`. In the code box below, outside the tabbed section, write the command to print the variable `ciphertext`. Then run the chunk and see what happens. You should see the ciphertext resulting from encrypting the word 'MYSECRET' with the key $3$."
   ]
  },
  {
   "cell_type": "code",
   "execution_count": 20,
   "metadata": {
    "collapsed": false
   },
   "outputs": [
    {
     "name": "stdout",
     "output_type": "stream",
     "text": [
      "PBVHFUHW\n"
     ]
    }
   ],
   "source": [
    "plaintext = 'MYSECRET'\n",
    "ciphertext = ''\n",
    "key = 3\n",
    "\n",
    "for letter in plaintext:\n",
    "    plaintext_number = alph.find(letter)\n",
    "    ciphertext_number = Mod(plaintext_number + 3, 26)\n",
    "    ciphertext_letter = alph[ciphertext_number]\n",
    "    ciphertext += ciphertext_letter\n",
    "print ciphertext"
   ]
  },
  {
   "cell_type": "markdown",
   "metadata": {
    "collapsed": false
   },
   "source": [
    "## Creating a Function\n",
    "\n",
    "Now, when shift ciphers are used in the real world, the plaintext is almost certain not to be 'MYSECRET', and the key may not be $3$. Instead of this specific plaintext and key, we want to allow ourselves the freedom to *define* whatever plaintext and key we want. In other words, we want ``plaintext`` and ``key`` to be *variables*.\n",
    "\n",
    "We can almost exactly recycle our code from above, where we encrypted 'MYSECRET' with a shift of $3$. However, we'll need to replace any references to specific plaintext with the variable `plaintext` and any references to specific numerical keys with the variable `key`. \n",
    "\n",
    "In the code box below, remove all references to the plaintext 'MYSECRET', leaving only references to the variable `plaintext`, and all references to the number $3$, leaving only references to the variable `key`. Then try running the chunk. Once you've run the chunk and observed what happens, read the text below."
   ]
  },
  {
   "cell_type": "code",
   "execution_count": 21,
   "metadata": {
    "collapsed": false
   },
   "outputs": [
    {
     "name": "stdout",
     "output_type": "stream",
     "text": [
      "PBVHFUHW\n"
     ]
    }
   ],
   "source": [
    "ciphertext = ''\n",
    "\n",
    "for letter in plaintext:\n",
    "    plaintext_number = alph.find(letter)\n",
    "    ciphertext_number = Mod(plaintext_number + key, 26)\n",
    "    ciphertext_letter = alph[ciphertext_number]\n",
    "    ciphertext += ciphertext_letter\n",
    "print(ciphertext)"
   ]
  },
  {
   "cell_type": "markdown",
   "metadata": {
    "collapsed": false
   },
   "source": [
    "The chunk above should have again spit out the ciphertext corresponding to the plaintext 'MYSECRET'. This is because we've already told Python in the previous section that `plaintext` is a placeholder for the text 'MYSECRET' and `key` is a placeholder for the number $3$. What if we want to encrypt a different message using a different key? Do we have to write all this code out again, changing the values of the variables `plaintext` and `key`? Thankfully, no!\n",
    "\n",
    "To save us from having to write out all this code anytime we want to encrypt a message with a shift cipher, we'll wrap everything up in a **function**. Then, if we want to encrypt the message 'POTATO' using the key $7$, all we'll have to write is\n",
    "\n",
    "``ShiftEncrypt('POTATO',7)``\n",
    "\n",
    "Just like a mathematical function like $f(x)=3x+2$, Sage functions have *inputs* or *independent variables* (like $x$ in the example $f(x)=3x+2$) and *outputs* or *dependent variables* (like the $3x+2$). For every input $x$ (for example $x=3$), the function outputs $3$ times that input plus $2$. So for the input $3$, the function $f(x)$ spits out $11$.\n",
    "\n",
    "The function we're dealing with doesn't just have one input, though, it has two: the plaintext and the key. One of those inputs (the plaintext) is a word and the other is a number.\n",
    "\n",
    "Remember from Codecademy that, to start defining a Sage or Python function, you have to start with a `def` command. I'll set the `def` command up for you below; try copy-pasting your code from the chunk above underneath the `def` command. Remember that everything the function does has to be tabbed over once, and everything in your `for` loop has to be tabbed over once more, so the stuff inside your `for` loop is *double*-tabbed! I\"ll start you off by defining the alphabet and the empty string called `ciphertext` like we did above."
   ]
  },
  {
   "cell_type": "code",
   "execution_count": 22,
   "metadata": {
    "collapsed": false
   },
   "outputs": [
   ],
   "source": [
    "def ShiftEncrypt(plaintext, key):\n",
    "    alph = 'ABCDEFGHIJKLMNOPQRSTUVWXYZ'\n",
    "    ciphertext = ''\n",
    "    for letter in plaintext:\n",
    "        plaintext_number = alph.find(letter)\n",
    "        ciphertext_number = Mod(plaintext_number + key, 26)\n",
    "        ciphertext_letter = alph[ciphertext_number]\n",
    "        ciphertext += ciphertext_letter\n",
    "    print(ciphertext)"
   ]
  },
  {
   "cell_type": "markdown",
   "metadata": {
    "collapsed": false
   },
   "source": [
    "Now, mimic my code in the 'POTATO' example above and use your function to encrypt the word 'STARGAZER' with a shift of $17$. Yes, it was a lot of work to write the function, but now that we have the function, encryption is so much easier than it would be by hand!"
   ]
  },
  {
   "cell_type": "code",
   "execution_count": 23,
   "metadata": {
    "collapsed": false
   },
   "outputs": [
    {
     "name": "stdout",
     "output_type": "stream",
     "text": [
      "JKRIXRQVI\n"
     ]
    }
   ],
   "source": [
    "ShiftEncrypt('STARGAZER',17)"
   ]
  },
  {
   "cell_type": "markdown",
   "metadata": {
    "collapsed": false
   },
   "source": [
    "## Exercises\n",
    "\n",
    "Now that you have a function, try answering the following:\n",
    "\n",
    "1. What do you think happens if you try to use a key that's larger than your alphabet? Try encoding a message with a shift of 27 and see! Is the result what you expected? Can you do some modular arithmetic to show why this is the case?"
   ]
  },
  {
   "cell_type": "code",
   "execution_count": 24,
   "metadata": {
    "collapsed": false
   },
   "outputs": [
    {
     "name": "stdout",
     "output_type": "stream",
     "text": [
      "NPOLFZ\n"
     ]
    }
   ],
   "source": [
    "ShiftEncrypt(\"MONKEY\", 27)"
   ]
  },
  {
   "cell_type": "markdown",
   "metadata": {
    "collapsed": false
   },
   "source": [
    "The alphabet \"rolls over\" or \"starts over\" again. For example, shifting by 27 is the same as shifting by 1."
   ]
  },
  {
   "cell_type": "markdown",
   "metadata": {
    "collapsed": false
   },
   "source": [
    "2. Finally, copy and paste the function above (changing the function's name) and try to change the code so that it encrypts using a larger alphabet of your choice. For example, you could add the special characters ~!? to your alphabet. Be sure to adjust the modulus accordingly!"
   ]
  },
  {
   "cell_type": "code",
   "execution_count": 25,
   "metadata": {
    "collapsed": false
   },
   "outputs": [
   ],
   "source": [
    "def ShiftEncryptX(plaintext, key):\n",
    "    alph = 'ABCDEFGHIJKLMNOPQRSTUVWXYZ~?!'\n",
    "    ciphertext = ''\n",
    "    for letter in plaintext:\n",
    "        plaintext_number = alph.find(letter)\n",
    "        ciphertext_number = Mod(plaintext_number + key, 29)\n",
    "        ciphertext_letter = alph[ciphertext_number]\n",
    "        ciphertext += ciphertext_letter\n",
    "    print(ciphertext)"
   ]
  },
  {
   "cell_type": "code",
   "execution_count": 26,
   "metadata": {
    "collapsed": false
   },
   "outputs": [
    {
     "name": "stdout",
     "output_type": "stream",
     "text": [
      "KMLICW\n"
     ]
    }
   ],
   "source": [
    "ShiftEncryptX(\"MONKEY\",27)"
   ]
  },
  {
   "cell_type": "markdown",
   "metadata": {
    "collapsed": false
   },
   "source": [
    "Now, a shift of 27 really is different from a shift of anything less than 27."
   ]
  }
 ],
 "metadata": {
  "kernelspec": {
   "display_name": "SageMath 9.1",
   "language": "sagemath",
   "metadata": {
    "cocalc": {
     "description": "Open-source mathematical software system",
     "priority": 1,
     "url": "https://www.sagemath.org/"
    }
   },
   "name": "sage-9.1",
   "resource_dir": "/ext/jupyter/kernels/sage-9.1"
  },
  "language_info": {
   "codemirror_mode": {
    "name": "ipython",
    "version": 3
   },
   "file_extension": ".py",
   "mimetype": "text/x-python",
   "name": "python",
   "nbconvert_exporter": "python",
   "pygments_lexer": "ipython3",
   "version": "3.7.3"
  }
 },
 "nbformat": 4,
 "nbformat_minor": 4
}
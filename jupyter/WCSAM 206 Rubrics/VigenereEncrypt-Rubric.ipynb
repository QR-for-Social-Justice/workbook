{
 "cells": [
  {
   "cell_type": "markdown",
   "metadata": {
    "collapsed": false
   },
   "source": [
    "# Vigenère Encryption Rubric (only grade bottom function and exercises)\n",
    "\n",
    "All of the ciphers we've seen up to this point have been **monoalphabetic substitution ciphers**, meaning they use only one *cipher alphabet* (way of assigning a given plaintext letter to a ciphertext letter). Today, we'll work with a **polyalphabetic substitution cipher** for the first time, where (for example) a plaintext $e$ could be enciphered either as a ciphertext $O$ or a ciphertext $A$.\n",
    "\n",
    "As usual, we'll start by telling Python that we're working with capital English letters. Run the chunk below to do this:"
   ]
  },
  {
   "cell_type": "code",
   "execution_count": 1,
   "metadata": {
    "collapsed": false
   },
   "outputs": [
   ],
   "source": [
    "alph = 'ABCDEFGHIJKLMNOPQRSTUVWXYZ'"
   ]
  },
  {
   "cell_type": "markdown",
   "metadata": {
    "collapsed": false
   },
   "source": [
    "As before, our first step is to take a given plaintext letter and convert it to a number. Do you remember what code does this? Copy/paste the code from your `ShiftEncrypt` function that changes plaintext letters to plaintext numbers and labels the number `plaintext_number`. **Don't run the code yet.**"
   ]
  },
  {
   "cell_type": "code",
   "execution_count": 0,
   "metadata": {
    "collapsed": false
   },
   "outputs": [
   ],
   "source": [
   ]
  },
  {
   "cell_type": "markdown",
   "metadata": {
    "collapsed": false
   },
   "source": [
    "The genius of Vigenère is that it uses a *keyword* to cycle between **multiple** shifts, so that a Vigenère cipher is actually multiple shift ciphers that we cycle through (like you cycled through two shifts in your reading question). Any idea how we could use a keyword to encode shifts? Write your answer below."
   ]
  },
  {
   "cell_type": "markdown",
   "metadata": {
    "collapsed": false
   },
   "source": [
   ]
  },
  {
   "cell_type": "markdown",
   "metadata": {
    "collapsed": false
   },
   "source": [
    "Just like we converted the plaintext to numbers, we need to convert the key to numbers as well. Below, write the code that would convert the variable `keyword` to numbers and label it `key_numbers`."
   ]
  },
  {
   "cell_type": "code",
   "execution_count": 0,
   "metadata": {
    "collapsed": false
   },
   "outputs": [
   ],
   "source": [
   ]
  },
  {
   "cell_type": "markdown",
   "metadata": {
    "collapsed": false
   },
   "source": [
    "Vigenère cycles between shifts in the following way. \n",
    "\n",
    "1. First off, the keyword is spelled out above the message, and repeated over and over again so that each letter in the message is associated with a letter from the keyword: \n",
    "<pre>\n",
    "Plaintext: d i v e r t t r o o p s t o e a s t r i d g e\n",
    "Keyword:   W H I T E W H I T E W H I T E W H I T E W H I\n",
    "</pre>\n",
    "2. To encrypt the first letter, we note that the plaintext 'd' lines up with the keyword 'W'. This means that we'll shift the 'd' forward by the amount encoded by 'W'.\n",
    "\n",
    "What does W correspond to in our letter-to-number chart, and what would be the result of shifting a 'd' forward by that number?"
   ]
  },
  {
   "cell_type": "markdown",
   "metadata": {
    "collapsed": false
   },
   "source": [
   ]
  },
  {
   "cell_type": "markdown",
   "metadata": {
    "collapsed": false
   },
   "source": [
    "Similarly, since the plaintext 'i' aligns with the keyword 'H', we want to shift the 'i' forward by the amount encoded by the 'H'. What is that shift, and what is the result of shifting 'i' forward by this amount?"
   ]
  },
  {
   "cell_type": "markdown",
   "metadata": {
    "collapsed": false
   },
   "source": [
   ]
  },
  {
   "cell_type": "markdown",
   "metadata": {
    "collapsed": false
   },
   "source": [
    "Since the key is repeated over and over again under the plaintext, it's important that we know the length of the keyword. \n",
    "\n",
    "In Python, the code to output the length of a string (such as a keyword) is `len(string)`. For example, to find the length of the word \"ALLIGATOR\", we'd type\n",
    "\n",
    "<pre>\n",
    "len('ALLIGATOR')\n",
    "</pre>\n",
    "\n",
    "Below, write the code to find the length of the word \"SUPERCALIFRAGILISTICEXPIALIDOCIOUS\". In the second code chunk below, write the code to find the length of the variable `alph`, which we've assigned to the English alphabet."
   ]
  },
  {
   "cell_type": "code",
   "execution_count": 0,
   "metadata": {
    "collapsed": false
   },
   "outputs": [
   ],
   "source": [
   ]
  },
  {
   "cell_type": "code",
   "execution_count": 0,
   "metadata": {
    "collapsed": false
   },
   "outputs": [
   ],
   "source": [
   ]
  },
  {
   "cell_type": "markdown",
   "metadata": {
    "collapsed": false
   },
   "source": [
    "Were the outputs of the `len` functions above what you expected? Why or why not?"
   ]
  },
  {
   "cell_type": "markdown",
   "metadata": {
    "collapsed": false
   },
   "source": [
   ]
  },
  {
   "cell_type": "markdown",
   "metadata": {
    "collapsed": false
   },
   "source": [
    "Finally, we'll assign the length of our `keyword` to the variable `key_length`. Write the code to output the length of the variable `keyword` and assign it to the name `key_length` using code below (don't run it):"
   ]
  },
  {
   "cell_type": "code",
   "execution_count": 0,
   "metadata": {
    "collapsed": false
   },
   "outputs": [
   ],
   "source": [
    "(1.1)\n"
   ]
  },
  {
   "cell_type": "markdown",
   "metadata": {
    "collapsed": false
   },
   "source": [
    "Continuing our steps for enciphering using Vigenere, the next step is to add the amount of the keyword shift to the plaintext, just as you did with the plaintext 'd' and 'i' in \"divert troops to east ridge\".\n",
    "\n",
    "You've already written the code to convert both the plaintext to a number (`plaintext_number`) and the keyword to numbers (`key_number`). Below, write the code to add `key_number` to `plaintext_number` $\\mod{26}$ (but **don't run it**)."
   ]
  },
  {
   "cell_type": "code",
   "execution_count": 0,
   "metadata": {
    "collapsed": false
   },
   "outputs": [
   ],
   "source": [
   ]
  },
  {
   "cell_type": "markdown",
   "metadata": {
    "collapsed": false
   },
   "source": [
    "Now, we want to start with an empty string of ciphertext (`''`) and add the corresponding keyword number to every plaintext number. Since we're repeating the step of adding the key letter to the plaintext letter for every letter in the plaintext, we'll need to use a `for` loop!\n",
    "\n",
    "Remember how we used code like `alph[3]` to find the third letter in the alphabet? That code really treated `alph` as a string and searched for the third character (i.e., letter) in the string, then output that letter. \n",
    "\n",
    "How do you think we would output the zeroth (remember Python lists start at zero) letter in the string `keyword`? Write that code below (don't run it):"
   ]
  },
  {
   "cell_type": "code",
   "execution_count": 0,
   "metadata": {
    "collapsed": false
   },
   "outputs": [
   ],
   "source": [
   ]
  },
  {
   "cell_type": "markdown",
   "metadata": {
    "collapsed": false
   },
   "source": [
    "OK, we're ready to encipher a single plaintext letter! We want to perform the following steps:\n",
    "\n",
    "1. Define `alph` to be the capital English alphabet.\n",
    "2. Assign the length of the variable `keyword` to the variable `key_length`.\n",
    "3. Start with an empty string of ciphertext.\n",
    "4. Convert the first letter of the string `plaintext` to a number and call the result `plaintext_number`.\n",
    "5. Convert the first letter of the string `keyword` to a number and call the result `key_number`.\n",
    "6. Add the `key_number` to the `plaintext_number`, mod $26$, and call the result `ciphertext_number`.\n",
    "7. Convert the `ciphertext_number` back to a `ciphertext_letter`.\n",
    "8. Add `ciphertext_number` to the string `ciphertext`.\n",
    "\n",
    "Almost all these steps are things we've done before in previous modules (e.g., converting letters to numbers and vice versa). Below, write the code to label the empty string `''` with the name `ciphertext`."
   ]
  },
  {
   "cell_type": "code",
   "execution_count": 0,
   "metadata": {
    "collapsed": false
   },
   "outputs": [
   ],
   "source": [
    "(1.1)\n"
   ]
  },
  {
   "cell_type": "markdown",
   "metadata": {
    "collapsed": false
   },
   "source": [
    "Now, we want to do this for every plaintext letter and the corresponding keyword letter using a `for` loop. Here's a shortcut: the code\n",
    "\n",
    "<pre>\n",
    "(1.2)\n",
    "key_numbers = [alph.find(i) for i in key]\n",
    "</pre>\n",
    "\n",
    "turns every letter in the keyword into a number and stores the entire result in the string `key_numbers`. So, for example, if the keyword was \"HI\", `key_numbers` would be `[7, 8]` because $H=7$ and $I=8$ in our letter-to-number chart.\n",
    "\n",
    "Below, write the code to convert the entire plaintext to numbers and call the result `plaintext_numbers` (mimic the `key_numbers` code above but change the names)."
   ]
  },
  {
   "cell_type": "code",
   "execution_count": 0,
   "metadata": {
    "collapsed": false
   },
   "outputs": [
   ],
   "source": [
    "(1.3)\n"
   ]
  },
  {
   "cell_type": "markdown",
   "metadata": {
    "collapsed": false
   },
   "source": [
    "Now, we want to tell Python to repeat the keyword numbers over and over again under the plaintext numbers. For example, if the keyword is \"NICE\" and the plaintext is \"FIREFIGHTER\", we'd do the following:\n",
    "\n",
    "1. Convert both to numbers like you did above:\n",
    "<pre>\n",
    "Plaintext:\n",
    "  \n",
    "  F  I  R  E  F  I  G  H  T  E  R\n",
    "  5  8  17 4  5  8  6  7  19 4  17\n",
    "\n",
    "Key:\n",
    "\n",
    "  N  I  C  E  N  I  C  E  N  I  C\n",
    "  13 8  2  4  13 8  2  4  13 8  2\n",
    "</pre>\n",
    "\n",
    "2. Repeat the key over and over again under the plaintext, then add corresponding key letters to corresponding plaintext letters:\n",
    "\n",
    "<pre>\n",
    "Plaintext:\n",
    "  \n",
    "  F  I  R  E  F  I  G  H  T  E  R\n",
    "  5  8  17 4  5  8  6  7  19 4  17\n",
    "\n",
    "Key:\n",
    "\n",
    "  N  I  C  E  N  I  C  E  N  I  C\n",
    "+ 13 8  2  4  13 8  2  4  13 8  2\n",
    "  ----------\n",
    "  18 16 19 8  18 16 8  11 ...\n",
    "  \n",
    "</pre>\n",
    "\n",
    "How do we tell Python to do this? Well, note that we're adding the first letter of the keyword to the first, fifth, and ninth letters of the plaintext (F, F, T). The length of the keyword here is 4. What time do 1, 5, and 9 all represent on a 4-hour clock?"
   ]
  },
  {
   "cell_type": "markdown",
   "metadata": {
    "collapsed": false
   },
   "source": [
   ]
  },
  {
   "cell_type": "markdown",
   "metadata": {
    "collapsed": false
   },
   "source": [
    "So to figure out what key letter to add to a given plaintext letter, we just reduce the position of the plaintext letter modulo the key letter! For example, since 'I' is the sixth letter of 'FIREFIGHTER', we'd add the \n",
    "\n",
    "$$\n",
    "6\\mod{4} \\equiv 2\\text{nd}\n",
    "$$\n",
    "\n",
    "letter of the key to 'I'.\n",
    "\n",
    "Below, I'll write the code to do this to the $i$th letter of `plaintext_numbers`, reduce mod 26, and label the result `ciphertext_number`. (Don't run it yet.)"
   ]
  },
  {
   "cell_type": "code",
   "execution_count": 0,
   "metadata": {
    "collapsed": false
   },
   "outputs": [
   ],
   "source": [
    "(1.4)\n",
    "\n",
    "ciphertext_number = Mod(plaintext_numbers[i] + key_numbers[i % key_length], 26)"
   ]
  },
  {
   "cell_type": "markdown",
   "metadata": {
    "collapsed": false
   },
   "source": [
    "We want to do the process in chunk (1.4) to every letter of the plaintext. This requires us to use a for loop that begins\n",
    "\n",
    "``\n",
    "for i in range(len(plaintext_numbers)):\n",
    "``\n",
    "\n",
    "Let's break this down. The string `plaintext_numbers` is a list of numbers. Its length is the same as the length of the plaintext, one plaintext number for every plaintext letter. \n",
    "\n",
    "This `for` loop will start with the zeroth (remember all Python lists start at 0) plaintext number, then move on to the first, then the second, and so on until it reaches the length of the plaintext. This is exactly what we want to do in order to encrypt a message!"
   ]
  },
  {
   "cell_type": "markdown",
   "metadata": {
    "collapsed": false
   },
   "source": [
    "OK, we're ready! Copy-paste lines (1.1), (1.2), and (1.3) of code in the chunk below. Below those, copy-paste the beginning of the `for` loop. Finally, tabbed over underneath the `for` command, copy-paste line (1.4) of code. Finally, still underneath the `for` loop, add code to convert `ciphertext_number` back to `ciphertext_letter` and append the result to the end of the string `ciphertext`. Then, outside the loop, have Python print the ciphertext."
   ]
  },
  {
   "cell_type": "code",
   "execution_count": 4,
   "metadata": {
    "collapsed": false
   },
   "outputs": [
   ],
   "source": [
    "# Define a Vigenere encryption function\n",
    "def VigenereEncrypt(plaintext, keyword):\n",
    "    alph = 'ABCDEFGHIJKLMNOPQRSTUVWXYZ'\n",
    "    key_length = len(keyword)\n",
    "# Convert the key and plaintext from letters to numbers\n",
    "    key_numbers = [alph.find(i) for i in keyword]\n",
    "    plaintext_numbers = [alph.find(i) for i in plaintext]\n",
    "# Start with an empty string of ciphertext\n",
    "    ciphertext = ''\n",
    "# Write the key over and over again underneath the plaintext, then add the two together and reduce modulo 26. Finally, convert the ciphertext numbers to letters and return the result.\n",
    "    for i in range(len(plaintext_numbers)):\n",
    "        ciphertext_number = (plaintext_numbers[i] + key_numbers[i % key_length]) % 26\n",
    "        ciphertext_letter = alph[ciphertext_        ciphertext += ciphertext_letter\n",
    "    print ciphertext"
   ]
  },
  {
   "cell_type": "markdown",
   "metadata": {
    "collapsed": false
   },
   "source": [
    "## Exercises\n",
    "\n",
    "1. Test your shiny new function by encrypting two or three lines of lyrics by one of your favorite artists using the keyword 'MUSIC'."
   ]
  },
  {
   "cell_type": "code",
   "execution_count": 17,
   "metadata": {
    "collapsed": false
   },
   "outputs": [
    {
     "name": "stdout",
     "output_type": "stream",
     "text": [
      "RLALCKZJQFMSYWVFUYMVPIOVQZZJQFMS\n"
     ]
    }
   ],
   "source": [
    "VigenereEncrypt(\"FRIDAYFRIDAYGOTTAGETDOWNONFRIDAY\", \"MUSIC\")"
   ]
  },
  {
   "cell_type": "markdown",
   "metadata": {
    "collapsed": false
   },
   "source": [
    "2. What do you think would happen if you encrypted a Vigenère message using a key with only one letter (e.g. 'A')? Try encrypting the same message from Exercise 1 with the keyword 'B'. What happened? How secure is this cipher?"
   ]
  },
  {
   "cell_type": "code",
   "execution_count": 18,
   "metadata": {
    "collapsed": false
   },
   "outputs": [
    {
     "name": "stdout",
     "output_type": "stream",
     "text": [
      "GSJEBZGSJEBZHPUUBHFUEPXOPOGSJEBZ\n"
     ]
    }
   ],
   "source": [
    "VigenereEncrypt(\"FRIDAYFRIDAYGOTTAGETDOWNONFRIDAY\", \"B\")"
   ]
  },
  {
   "cell_type": "markdown",
   "metadata": {
    "collapsed": false
   },
   "source": [
    "This is just a shift cipher with shift $B=+1$. This is not secure at all since it is vulnerable to frequency analysis and brute force."
   ]
  },
  {
   "cell_type": "markdown",
   "metadata": {
    "collapsed": false
   },
   "source": [
    "3. Encrypt a reasonably-long message using a key of length 2 below. Then share the ciphertext with a partner at your table and see if they can break it!"
   ]
  },
  {
   "cell_type": "code",
   "execution_count": 3,
   "metadata": {
    "collapsed": false
   },
   "outputs": [
    {
     "name": "stdout",
     "output_type": "stream",
     "text": [
      "HRWCNSGJOXNOLKAZZONYTJOJJSUOBOFONOBMFIDDSNNWSCGKUO\n"
     ]
    }
   ],
   "source": [
    "VigenereEncrypt('THIS IS AN EXAMPLE OF A VIGENERE ENCRYPTED MESSAGE', 'OK')"
   ]
  },
  {
   "cell_type": "markdown",
   "metadata": {
    "collapsed": false
   },
   "source": [
    "4. Write a Vigenère **decryption** function by reversing the roles of ciphertext and plaintext in the chunk above where you defined the `VigenereEncrypt` function and changing only one other symbol in the code."
   ]
  },
  {
   "cell_type": "code",
   "execution_count": 10,
   "metadata": {
    "collapsed": false
   },
   "outputs": [
   ],
   "source": [
    "# Define a Vigenere decryption function\n",
    "def VigenereDecrypt(ciphertext, keyword):\n",
    "    alph = 'ABCDEFGHIJKLMNOPQRSTUVWXYZ'\n",
    "    key_length = len(keyword)\n",
    "# Convert the key and ciphertext from letters to numbers\n",
    "    key_numbers = [alph.find(i) for i in keyword]\n",
    "    ciphertext_numbers = [alph.find(i) for i in ciphertext]\n",
    "# Start with an empty string of plaintext\n",
    "    plaintext = ''\n",
    "# Write the key over and over again underneath the ciphertext, then subtract the key from the ciphertext and reduce modulo 26. Finally, convert the plaintext numbers to letters and return the result.\n",
    "    for i in range(len(ciphertext_numbers)):\n",
    "        plaintext_number = (ciphertext_numbers[i] - key_numbers[i % key_length]) % 26\n",
    "        plaintext_letter = alph[plaintext_number]\n",
    "        plaintext += plaintext_letter\n",
    "    print plaintext"
   ]
  },
  {
   "cell_type": "markdown",
   "metadata": {
    "collapsed": false
   },
   "source": [
    "5. Test your Vigenère decryption function by using it to decrypt your ciphertext from Exercise 1."
   ]
  },
  {
   "cell_type": "code",
   "execution_count": 11,
   "metadata": {
    "collapsed": false
   },
   "outputs": [
    {
     "name": "stdout",
     "output_type": "stream",
     "text": [
      "FRIDAYFRIDAYGOTTAGETDOWNONFRIDAY\n"
     ]
    }
   ],
   "source": [
    "VigenereDecrypt('RLALCKZJQFMSYWVFUYMVPIOVQZZJQFMS', \"MUSIC\")"
   ]
  }
 ],
 "metadata": {
  "kernelspec": {
  },
  "language_info": {
   "codemirror_mode": {
    "name": "ipython",
    "version": 2
   },
   "file_extension": ".py",
   "mimetype": "text/x-python",
   "name": "python",
   "nbconvert_exporter": "python",
   "pygments_lexer": "ipython2",
   "version": "2.7.15"
  }
 },
 "nbformat": 4,
 "nbformat_minor": 4
}